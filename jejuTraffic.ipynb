{
 "cells": [
  {
   "cell_type": "code",
   "execution_count": 1,
   "id": "91f4ff44",
   "metadata": {},
   "outputs": [],
   "source": [
    "import pandas as pd\n",
    "import numpy as np\n",
    "from sklearn.preprocessing import LabelEncoder\n",
    "import lightgbm as lgb\n",
    "import gc\n",
    "\n",
    "from datetime import datetime\n",
    "import requests\n",
    "import json\n",
    "from pandas import json_normalize\n",
    "\n",
    "from tqdm import tqdm\n",
    "import xgboost as xgb\n",
    "from sklearn.metrics import mean_squared_error\n",
    "from sklearn.datasets import load_boston"
   ]
  },
  {
   "cell_type": "code",
   "execution_count": 2,
   "id": "ac183e6c",
   "metadata": {},
   "outputs": [],
   "source": [
    "today = datetime.today().strftime('%Y%m%d')\n",
    "year_list =[2020, 2021, 2022]\n",
    "df_ho =pd.DataFrame([])\n",
    "for i in year_list:\n",
    "    today_year = i\n",
    "\n",
    "    key = 'UhnjyvmWEq5SH4yCqPylCPQSp4NdA524up%2FM1CrsUf3143Vmj3Rwx7PGHxq5YZY4mFHNHQ%2F0ixGwapRFApPsaw%3D%3D'\n",
    "    url = 'http://apis.data.go.kr/B090041/openapi/service/SpcdeInfoService/getRestDeInfo?_type=json&numOfRows=50&solYear=' + str(today_year) + '&ServiceKey=' + str(key)\n",
    "    response = requests.get(url)\n",
    "    if response.status_code == 200:\n",
    "        json_ob = json.loads(response.text)\n",
    "        holidays_data = json_ob['response']['body']['items']['item']\n",
    "        dataframe = json_normalize(holidays_data)\n",
    "    df_ho = pd.concat([df_ho, dataframe])"
   ]
  },
  {
   "cell_type": "code",
   "execution_count": 20,
   "id": "9c5185ff",
   "metadata": {},
   "outputs": [],
   "source": [
    "df_ho=df_ho.reset_index()"
   ]
  },
  {
   "cell_type": "code",
   "execution_count": 21,
   "id": "7bb206a3",
   "metadata": {},
   "outputs": [],
   "source": [
    "df_ho['locdate']=df_ho['locdate'].reset_index(drop=True)"
   ]
  },
  {
   "cell_type": "code",
   "execution_count": 22,
   "id": "5712f19a",
   "metadata": {},
   "outputs": [],
   "source": [
    "def csv_to_parquet(csv_path, save_name):\n",
    "    df = pd.read_csv(csv_path)\n",
    "    df.to_parquet(f'./{save_name}.parquet')\n",
    "    del df\n",
    "    gc.collect()\n",
    "    print(save_name, 'Done.')"
   ]
  },
  {
   "cell_type": "code",
   "execution_count": 23,
   "id": "5d7577af",
   "metadata": {
    "scrolled": true
   },
   "outputs": [
    {
     "name": "stdout",
     "output_type": "stream",
     "text": [
      "train Done.\n",
      "test Done.\n"
     ]
    }
   ],
   "source": [
    "csv_to_parquet('C:/Users/gisic/gisic/jejutraffic/train.csv', 'train')\n",
    "csv_to_parquet('C:/Users/gisic/gisic/jejutraffic/test.csv', 'test')"
   ]
  },
  {
   "cell_type": "code",
   "execution_count": 24,
   "id": "83ae7fea",
   "metadata": {},
   "outputs": [],
   "source": [
    "train = pd.read_parquet('./train.parquet')\n",
    "test = pd.read_parquet('./test.parquet')"
   ]
  },
  {
   "cell_type": "code",
   "execution_count": 25,
   "id": "169fecbc",
   "metadata": {},
   "outputs": [],
   "source": [
    "str_col = ['start_turn_restricted','end_turn_restricted']\n",
    "for i in str_col:\n",
    "    le = LabelEncoder()\n",
    "    le=le.fit(train[i])\n",
    "    train[i]=le.transform(train[i])\n",
    "    \n",
    "    for label in np.unique(test[i]):\n",
    "        if label not in le.classes_: \n",
    "            le.classes_ = np.append(le.classes_, label)\n",
    "    test[i]=le.transform(test[i])"
   ]
  },
  {
   "cell_type": "code",
   "execution_count": 71,
   "id": "27bc6d7b",
   "metadata": {},
   "outputs": [],
   "source": [
    "t_train = train.copy()\n",
    "t_test = test.copy()"
   ]
  },
  {
   "cell_type": "code",
   "execution_count": 72,
   "id": "e0e30178",
   "metadata": {},
   "outputs": [
    {
     "name": "stdout",
     "output_type": "stream",
     "text": [
      "(4701217, 13)\n",
      "(4701217,)\n",
      "(291241, 12)\n"
     ]
    }
   ],
   "source": [
    "y = t_train['target'] \n",
    "\n",
    "x = t_train.drop(['road_name', 'start_node_name', 'end_node_name','vehicle_restricted','road_type','weight_restricted','height_restricted','multi_linked','road_rating','connect_code'], axis=1)\n",
    "\n",
    "t_test = t_test.drop(['road_name', 'start_node_name', 'end_node_name','vehicle_restricted','road_type','weight_restricted','height_restricted','multi_linked','road_rating','connect_code'], axis=1)\n",
    "\n",
    "print(x.shape)\n",
    "print(y.shape)\n",
    "print(t_test.shape)"
   ]
  },
  {
   "cell_type": "code",
   "execution_count": 73,
   "id": "b2ce423d",
   "metadata": {},
   "outputs": [],
   "source": [
    "for i in df_ho['locdate']:\n",
    "    x.loc[(x['base_date'] == i),'base_date'] = 1\n",
    "x.loc[(x['base_date'] > 1),'base_date'] = 0\n",
    "\n",
    "for i in df_ho['locdate']:\n",
    "    t_test.loc[(t_test['base_date'] == i),'base_date'] = 1\n",
    "    \n",
    "t_test.loc[(t_test['base_date'] > 1),'base_date'] = 0    \n",
    "x = x.replace('월', 0)\n",
    "x = x.replace('화', 0)\n",
    "x = x.replace('수', 0)\n",
    "x = x.replace('목', 0)\n",
    "x = x.replace('금', 0)\n",
    "x = x.replace('토', 1)\n",
    "x = x.replace('일', 1)\n",
    "t_test = t_test.replace('월', 0)\n",
    "t_test = t_test.replace('화', 0)\n",
    "t_test = t_test.replace('수', 0)\n",
    "t_test = t_test.replace('목', 0)\n",
    "t_test = t_test.replace('금', 0)\n",
    "t_test = t_test.replace('토', 1)\n",
    "t_test = t_test.replace('일', 1)"
   ]
  },
  {
   "cell_type": "code",
   "execution_count": 74,
   "id": "2f66a0f0",
   "metadata": {},
   "outputs": [],
   "source": [
    "from sklearn.model_selection import train_test_split\n",
    "x_train, x_test, y_train, y_test = train_test_split(x, y, test_size=0.2, random_state=42)"
   ]
  },
  {
   "cell_type": "code",
   "execution_count": 77,
   "id": "ef9a91db",
   "metadata": {},
   "outputs": [
    {
     "name": "stdout",
     "output_type": "stream",
     "text": [
      "(4701217, 13)\n",
      "(3760973, 13) (940244, 13)\n"
     ]
    },
    {
     "data": {
      "text/plain": [
       "(array([ 1.,  2.,  3.,  4.,  5.,  6.,  7.,  8.,  9., 10., 11., 12., 13.,\n",
       "        14., 15., 16., 17., 18., 19., 20., 21., 22., 23., 24., 25., 26.,\n",
       "        27., 28., 29., 30., 31., 32., 33., 34., 35., 36., 37., 38., 39.,\n",
       "        40., 41., 42., 43., 44., 45., 46., 47., 48., 49., 50., 51., 52.,\n",
       "        53., 54., 55., 56., 57., 58., 59., 60., 61., 62., 63., 64., 65.,\n",
       "        66., 67., 68., 69., 70., 71., 72., 73., 74., 75., 76., 77., 78.,\n",
       "        79., 80., 81., 82., 83., 84., 85., 86., 87., 88., 89., 90., 91.,\n",
       "        92., 93., 94., 99.]),\n",
       " array([   13,    37,    67,   136,   262,   485,   766,  1026,  1433,\n",
       "         2231,  2645,  3737,  4243,  5134,  6256,  7376,  8889, 10208,\n",
       "        11071, 11840, 13013, 13406, 14214, 14862, 15329, 15951, 16375,\n",
       "        17550, 18409, 19268, 19691, 20069, 20536, 18862, 18767, 18855,\n",
       "        18113, 18710, 18326, 18524, 18595, 18463, 18582, 18707, 19559,\n",
       "        20115, 21465, 22336, 22063, 21496, 21551, 21307, 21547, 21719,\n",
       "        20974, 18471, 17351, 15235, 13728, 12720, 11018, 10184,  9487,\n",
       "         8682,  7737,  7286,  6836,  6782,  6147,  5494,  5245,  5299,\n",
       "         5526,  5254,  5006,  4413,  4000,  3298,  2671,  2078,  1573,\n",
       "         1358,  1058,   607,   267,   140,    62,    55,     1,     1,\n",
       "            1,     1,     3,     2,     3], dtype=int64))"
      ]
     },
     "execution_count": 77,
     "metadata": {},
     "output_type": "execute_result"
    }
   ],
   "source": [
    "## 훈련데이터세트의 shape ##\n",
    "print(x.shape)\n",
    "# (569,30) \n",
    "\n",
    "## 훈련세트, 테스트세트 shape ##\n",
    "print(x_train.shape, x_test.shape)\n",
    "# (455,30) (114,30)\n",
    "\n",
    "## 훈련데이터세트의 클래스 비율 ##\n",
    "np.unique(y, return_counts = True)\n",
    "# (array([0,1]), array([212,357]))\n",
    "\n",
    "## 훈련세트의 클래스 비율 ##\n",
    "np.unique(y_train, return_counts = True)\n",
    "# (array([0,1]), array([170,285]))\n",
    "\n",
    "## 훈련세트의 클래스 비율 ##\n",
    "np.unique(y_test, return_counts = True)\n",
    "# (array([0,1]), array([42, 72]))"
   ]
  },
  {
   "cell_type": "markdown",
   "id": "2f1170a1",
   "metadata": {},
   "source": [
    "##### str_list = ['start_latitude','start_longitude','end_latitude','end_longitude']\n",
    "for i in str_list:\n",
    "    if i == 'start_latitude' or i == 'end_latitude':\n",
    "        X_train[i] -= 33\n",
    "    else:\n",
    "        X_train[i] -= 126\n",
    "for i in str_list:\n",
    "    if i == 'start_latitude' or i == 'end_latitude':\n",
    "        test[i] -= 33\n",
    "    else:\n",
    "        test[i] -= 126"
   ]
  },
  {
   "cell_type": "code",
   "execution_count": 107,
   "id": "7446f6db",
   "metadata": {},
   "outputs": [],
   "source": [
    "xg_reg = xgb.XGBRegressor(objective ='reg:squarederror', max_depth = 5)\n",
    "xg_reg.fit(X_train, y_train)\n",
    "pred = xg_reg.predict(test)\n"
   ]
  },
  {
   "cell_type": "markdown",
   "id": "4ad330b5",
   "metadata": {},
   "source": [
    "##### xg_reg = xgb.XGBRegressor(random_state=42).fit(X_train, y_train)"
   ]
  },
  {
   "cell_type": "markdown",
   "id": "0a1290cc",
   "metadata": {},
   "source": [
    "##### pred = xg_reg.predict(test)"
   ]
  },
  {
   "cell_type": "code",
   "execution_count": 108,
   "id": "26073751",
   "metadata": {},
   "outputs": [],
   "source": [
    "sample_submission = pd.read_csv('C:/Users/gisic/gisic/jejutraffic/sample_submission.csv')"
   ]
  },
  {
   "cell_type": "code",
   "execution_count": 109,
   "id": "dae02b31",
   "metadata": {},
   "outputs": [],
   "source": [
    "sample_submission['target'] = pred\n",
    "sample_submission.to_csv(\"C:/Users/gisic/gisic/jejutraffic/submit.csv\", index = False)"
   ]
  },
  {
   "cell_type": "code",
   "execution_count": 110,
   "id": "2a91879b",
   "metadata": {},
   "outputs": [
    {
     "data": {
      "text/html": [
       "<div>\n",
       "<style scoped>\n",
       "    .dataframe tbody tr th:only-of-type {\n",
       "        vertical-align: middle;\n",
       "    }\n",
       "\n",
       "    .dataframe tbody tr th {\n",
       "        vertical-align: top;\n",
       "    }\n",
       "\n",
       "    .dataframe thead th {\n",
       "        text-align: right;\n",
       "    }\n",
       "</style>\n",
       "<table border=\"1\" class=\"dataframe\">\n",
       "  <thead>\n",
       "    <tr style=\"text-align: right;\">\n",
       "      <th></th>\n",
       "      <th>id</th>\n",
       "      <th>target</th>\n",
       "    </tr>\n",
       "  </thead>\n",
       "  <tbody>\n",
       "    <tr>\n",
       "      <th>0</th>\n",
       "      <td>TEST_000000</td>\n",
       "      <td>25.886963</td>\n",
       "    </tr>\n",
       "    <tr>\n",
       "      <th>1</th>\n",
       "      <td>TEST_000001</td>\n",
       "      <td>46.102360</td>\n",
       "    </tr>\n",
       "    <tr>\n",
       "      <th>2</th>\n",
       "      <td>TEST_000002</td>\n",
       "      <td>63.029503</td>\n",
       "    </tr>\n",
       "    <tr>\n",
       "      <th>3</th>\n",
       "      <td>TEST_000003</td>\n",
       "      <td>33.488358</td>\n",
       "    </tr>\n",
       "    <tr>\n",
       "      <th>4</th>\n",
       "      <td>TEST_000004</td>\n",
       "      <td>39.507397</td>\n",
       "    </tr>\n",
       "    <tr>\n",
       "      <th>...</th>\n",
       "      <td>...</td>\n",
       "      <td>...</td>\n",
       "    </tr>\n",
       "    <tr>\n",
       "      <th>291236</th>\n",
       "      <td>TEST_291236</td>\n",
       "      <td>52.457191</td>\n",
       "    </tr>\n",
       "    <tr>\n",
       "      <th>291237</th>\n",
       "      <td>TEST_291237</td>\n",
       "      <td>52.570896</td>\n",
       "    </tr>\n",
       "    <tr>\n",
       "      <th>291238</th>\n",
       "      <td>TEST_291238</td>\n",
       "      <td>22.827877</td>\n",
       "    </tr>\n",
       "    <tr>\n",
       "      <th>291239</th>\n",
       "      <td>TEST_291239</td>\n",
       "      <td>24.335571</td>\n",
       "    </tr>\n",
       "    <tr>\n",
       "      <th>291240</th>\n",
       "      <td>TEST_291240</td>\n",
       "      <td>42.575443</td>\n",
       "    </tr>\n",
       "  </tbody>\n",
       "</table>\n",
       "<p>291241 rows × 2 columns</p>\n",
       "</div>"
      ],
      "text/plain": [
       "                 id     target\n",
       "0       TEST_000000  25.886963\n",
       "1       TEST_000001  46.102360\n",
       "2       TEST_000002  63.029503\n",
       "3       TEST_000003  33.488358\n",
       "4       TEST_000004  39.507397\n",
       "...             ...        ...\n",
       "291236  TEST_291236  52.457191\n",
       "291237  TEST_291237  52.570896\n",
       "291238  TEST_291238  22.827877\n",
       "291239  TEST_291239  24.335571\n",
       "291240  TEST_291240  42.575443\n",
       "\n",
       "[291241 rows x 2 columns]"
      ]
     },
     "execution_count": 110,
     "metadata": {},
     "output_type": "execute_result"
    }
   ],
   "source": [
    "sample_submission"
   ]
  },
  {
   "cell_type": "code",
   "execution_count": 94,
   "id": "3f6fd441",
   "metadata": {},
   "outputs": [],
   "source": [
    "suspect_submission = sample_submission.copy()"
   ]
  },
  {
   "cell_type": "code",
   "execution_count": 95,
   "id": "48634a5e",
   "metadata": {},
   "outputs": [
    {
     "data": {
      "text/html": [
       "<div>\n",
       "<style scoped>\n",
       "    .dataframe tbody tr th:only-of-type {\n",
       "        vertical-align: middle;\n",
       "    }\n",
       "\n",
       "    .dataframe tbody tr th {\n",
       "        vertical-align: top;\n",
       "    }\n",
       "\n",
       "    .dataframe thead th {\n",
       "        text-align: right;\n",
       "    }\n",
       "</style>\n",
       "<table border=\"1\" class=\"dataframe\">\n",
       "  <thead>\n",
       "    <tr style=\"text-align: right;\">\n",
       "      <th></th>\n",
       "      <th>id</th>\n",
       "      <th>target</th>\n",
       "    </tr>\n",
       "  </thead>\n",
       "  <tbody>\n",
       "    <tr>\n",
       "      <th>0</th>\n",
       "      <td>TEST_000000</td>\n",
       "      <td>24.408371</td>\n",
       "    </tr>\n",
       "    <tr>\n",
       "      <th>1</th>\n",
       "      <td>TEST_000001</td>\n",
       "      <td>45.870052</td>\n",
       "    </tr>\n",
       "    <tr>\n",
       "      <th>2</th>\n",
       "      <td>TEST_000002</td>\n",
       "      <td>63.367569</td>\n",
       "    </tr>\n",
       "    <tr>\n",
       "      <th>3</th>\n",
       "      <td>TEST_000003</td>\n",
       "      <td>34.505859</td>\n",
       "    </tr>\n",
       "    <tr>\n",
       "      <th>4</th>\n",
       "      <td>TEST_000004</td>\n",
       "      <td>37.616901</td>\n",
       "    </tr>\n",
       "    <tr>\n",
       "      <th>...</th>\n",
       "      <td>...</td>\n",
       "      <td>...</td>\n",
       "    </tr>\n",
       "    <tr>\n",
       "      <th>291236</th>\n",
       "      <td>TEST_291236</td>\n",
       "      <td>51.246002</td>\n",
       "    </tr>\n",
       "    <tr>\n",
       "      <th>291237</th>\n",
       "      <td>TEST_291237</td>\n",
       "      <td>52.160847</td>\n",
       "    </tr>\n",
       "    <tr>\n",
       "      <th>291238</th>\n",
       "      <td>TEST_291238</td>\n",
       "      <td>21.929148</td>\n",
       "    </tr>\n",
       "    <tr>\n",
       "      <th>291239</th>\n",
       "      <td>TEST_291239</td>\n",
       "      <td>25.345930</td>\n",
       "    </tr>\n",
       "    <tr>\n",
       "      <th>291240</th>\n",
       "      <td>TEST_291240</td>\n",
       "      <td>44.559948</td>\n",
       "    </tr>\n",
       "  </tbody>\n",
       "</table>\n",
       "<p>291241 rows × 2 columns</p>\n",
       "</div>"
      ],
      "text/plain": [
       "                 id     target\n",
       "0       TEST_000000  24.408371\n",
       "1       TEST_000001  45.870052\n",
       "2       TEST_000002  63.367569\n",
       "3       TEST_000003  34.505859\n",
       "4       TEST_000004  37.616901\n",
       "...             ...        ...\n",
       "291236  TEST_291236  51.246002\n",
       "291237  TEST_291237  52.160847\n",
       "291238  TEST_291238  21.929148\n",
       "291239  TEST_291239  25.345930\n",
       "291240  TEST_291240  44.559948\n",
       "\n",
       "[291241 rows x 2 columns]"
      ]
     },
     "execution_count": 95,
     "metadata": {},
     "output_type": "execute_result"
    }
   ],
   "source": [
    "suspect_submission"
   ]
  },
  {
   "cell_type": "code",
   "execution_count": null,
   "id": "d844b6c7",
   "metadata": {},
   "outputs": [],
   "source": []
  }
 ],
 "metadata": {
  "kernelspec": {
   "display_name": "Python 3 (ipykernel)",
   "language": "python",
   "name": "python3"
  },
  "language_info": {
   "codemirror_mode": {
    "name": "ipython",
    "version": 3
   },
   "file_extension": ".py",
   "mimetype": "text/x-python",
   "name": "python",
   "nbconvert_exporter": "python",
   "pygments_lexer": "ipython3",
   "version": "3.9.13"
  }
 },
 "nbformat": 4,
 "nbformat_minor": 5
}
