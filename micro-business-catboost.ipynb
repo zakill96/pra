{
 "cells": [
  {
   "cell_type": "markdown",
   "id": "f82de095",
   "metadata": {
    "papermill": {
     "duration": 0.009234,
     "end_time": "2023-03-12T07:03:47.422946",
     "exception": false,
     "start_time": "2023-03-12T07:03:47.413712",
     "status": "completed"
    },
    "tags": []
   },
   "source": [
    "### **Thanks to great works from Prem, Jasonczh, Chris, Jasonczh, Giba, Nin7a1, judith007,samu2505, tetsutani.**"
   ]
  },
  {
   "cell_type": "markdown",
   "id": "1f15288e",
   "metadata": {
    "papermill": {
     "duration": 0.007465,
     "end_time": "2023-03-12T07:03:47.438712",
     "exception": false,
     "start_time": "2023-03-12T07:03:47.431247",
     "status": "completed"
    },
    "tags": []
   },
   "source": [
    "## **This notebook mainly tuned the models and explain the reasons of doing these things. Hope my words can help you in this competition!**"
   ]
  },
  {
   "cell_type": "markdown",
   "id": "5952dcc3",
   "metadata": {
    "papermill": {
     "duration": 0.0075,
     "end_time": "2023-03-12T07:03:47.453876",
     "exception": false,
     "start_time": "2023-03-12T07:03:47.446376",
     "status": "completed"
    },
    "tags": []
   },
   "source": [
    "### **Thanks to great works from Prem, Jasonczh, Chris, Giba, Nin7a1, judith007,samu2505, tetsutani, DANGNGUYEN1997, .**\n",
    "\n",
    "### **This notebook mainly tuned the models and explain the reasons of doing these things. Hope my words can help you in this competition!**\n",
    "\n",
    "### This version is for content. The best score can be found [here](https://www.kaggle.com/code/batprem/godaddy-tune-stacking?scriptVersionId=121080529)\n",
    "\n",
    "#### <p style=\"font-family:JetBrains Mono; font-weight:normal; letter-spacing: 2px; color:#9E3F00; font-size:140%; text-align:left;padding: 0px; border-bottom: 3px solid #9E3F00\">CHANGE LOG</p>\n",
    "* ** Added tuning from https://www.kaggle.com/code/vadimkamaev/godaddy-stacking-xgb-lgbm-cat**\n",
    "* ** Added stacking from https://www.kaggle.com/code/samu2505/godaddy-stacking-xgb-lgbm-cat**\n",
    "* ** Added ensemble with https://www.kaggle.com/code/dangnguyen97/lb-1-3803-simple-baseline-with-eda-and-smape?scriptVersionId=120991448**\n",
    "* **Added data from https://www2.census.gov/programs-surveys/popest/datasets/2020-2021/counties/totals/ please see [Feature engineeering](#Feature-Engineering)**\n",
    "> It didn't work before the data was adjusted. It now somehow works. - Prem\n",
    "\n",
    "#### Mixing technique\n",
    "This technique is a mixing technique of\n",
    "\n",
    "* @judith007\n",
    "    * https://www.kaggle.com/code/judith007/location-feature-single-model-improvement\n",
    "    * https://www.kaggle.com/code/judith007/tuning-methods-included-better-score-lb1-3946\n",
    "* @samu2505 https://www.kaggle.com/code/samu2505/adding-location-features\n",
    "* @tetsutani https://www.kaggle.com/code/tetsutani/catboost-only-tune-score-lb1-3845\n",
    "<br>Also thank to greate works from Jasonczh, Chris, Jasonczh, Giba, Nin7a1"
   ]
  },
  {
   "cell_type": "code",
   "execution_count": 6,
   "id": "24f267ad",
   "metadata": {},
   "outputs": [],
   "source": [
    "import gc\n",
    "import numpy as np\n",
    "import pandas as pd\n",
    "import os\n",
    "from tqdm.notebook import tqdm\n",
    "BASE = './12/'\n",
    "\n",
    "def smape(y_true, y_pred):\n",
    "    smap = np.zeros(len(y_true))\n",
    "    \n",
    "    num = np.abs(y_true - y_pred)\n",
    "    dem = ((np.abs(y_true) + np.abs(y_pred)) / 2)\n",
    "    \n",
    "    pos_ind = (y_true!=0)|(y_pred!=0)\n",
    "    smap[pos_ind] = num[pos_ind] / dem[pos_ind]\n",
    "    \n",
    "    return 100 * np.mean(smap)\n",
    "\n",
    "def vsmape(y_true, y_pred):\n",
    "    smap = np.zeros(len(y_true))\n",
    "    \n",
    "    num = np.abs(y_true - y_pred)\n",
    "    dem = ((np.abs(y_true) + np.abs(y_pred)) / 2)\n",
    "    \n",
    "    pos_ind = (y_true!=0)|(y_pred!=0)\n",
    "    smap[pos_ind] = num[pos_ind] / dem[pos_ind]\n",
    "    \n",
    "    return 100 * smap"
   ]
  },
  {
   "cell_type": "code",
   "execution_count": 7,
   "id": "4da426f9",
   "metadata": {},
   "outputs": [
    {
     "name": "stdout",
     "output_type": "stream",
     "text": [
      "(128535, 8) (18810, 3) (25080, 2)\n"
     ]
    }
   ],
   "source": [
    "census = pd.read_csv(BASE + 'census_starter.csv')\n",
    "train = pd.read_csv(BASE + 'train.csv')\n",
    "reaveal_test = pd.read_csv(BASE + 'revealed_test.csv')\n",
    "train = pd.concat([train, reaveal_test]).sort_values(by=['cfips','first_day_of_month']).reset_index()\n",
    "test = pd.read_csv(BASE + 'test.csv')\n",
    "drop_index = (test.first_day_of_month == '2022-11-01') | (test.first_day_of_month == '2022-12-01')\n",
    "test = test.loc[~drop_index,:]\n",
    "sub = pd.read_csv(BASE + 'sample_submission.csv')\n",
    "coords = pd.read_csv(BASE + \"cfips_location.csv\")\n",
    "print(train.shape, test.shape, sub.shape)\n",
    "\n",
    "train['istest'] = 0\n",
    "test['istest'] = 1\n",
    "raw = pd.concat((train, test)).sort_values(['cfips','row_id']).reset_index(drop=True)\n",
    "raw = raw.merge(coords.drop(\"name\", axis=1), on=\"cfips\")\n",
    "\n",
    "raw['state_i1'] = raw['state'].astype('category')\n",
    "raw['county_i1'] = raw['county'].astype('category')\n",
    "raw['first_day_of_month'] = pd.to_datetime(raw[\"first_day_of_month\"])\n",
    "raw['county'] = raw.groupby('cfips')['county'].ffill()\n",
    "raw['state'] = raw.groupby('cfips')['state'].ffill()\n",
    "raw[\"dcount\"] = raw.groupby(['cfips'])['row_id'].cumcount()\n",
    "raw['county_i'] = (raw['county'] + raw['state']).factorize()[0]\n",
    "raw['state_i'] = raw['state'].factorize()[0]\n",
    "raw['scale'] = (raw['first_day_of_month'] - raw['first_day_of_month'].min()).dt.days\n",
    "raw['scale'] = raw['scale'].factorize()[0]\n",
    "raw[\"year\"] = raw[\"first_day_of_month\"].dt.year\n",
    "raw[\"month\"] = raw[\"first_day_of_month\"].dt.month\n",
    "os.environ[\"CUDA_VISIBLE_DEVICES\"]=\"0\"\n"
   ]
  },
  {
   "cell_type": "code",
   "execution_count": 8,
   "id": "d31ee21f",
   "metadata": {},
   "outputs": [],
   "source": [
    "raw.loc[raw['row_id'].str.contains('2022-07-01'),'microbusiness_density'] = 0.5*((raw.loc[raw['row_id'].str.contains('2022-06-01'),'microbusiness_density'].values)\n",
    "                                                                                + (raw.loc[raw['row_id'].str.contains('2022-08-01'),'microbusiness_density'].values))"
   ]
  },
  {
   "cell_type": "markdown",
   "id": "9c3271e2",
   "metadata": {
    "papermill": {
     "duration": 0.007552,
     "end_time": "2023-03-12T07:03:48.781633",
     "exception": false,
     "start_time": "2023-03-12T07:03:48.774081",
     "status": "completed"
    },
    "tags": []
   },
   "source": [
    "# There are some anomalies, specially at timestep 18"
   ]
  },
  {
   "cell_type": "code",
   "execution_count": null,
   "id": "ea9e64c3",
   "metadata": {},
   "outputs": [],
   "source": []
  },
  {
   "cell_type": "code",
   "execution_count": 9,
   "id": "f90a9603",
   "metadata": {
    "execution": {
     "iopub.execute_input": "2023-03-12T07:03:48.799286Z",
     "iopub.status.busy": "2023-03-12T07:03:48.798804Z",
     "iopub.status.idle": "2023-03-12T07:03:56.214115Z",
     "shell.execute_reply": "2023-03-12T07:03:56.212787Z"
    },
    "papermill": {
     "duration": 7.427222,
     "end_time": "2023-03-12T07:03:56.216607",
     "exception": false,
     "start_time": "2023-03-12T07:03:48.789385",
     "status": "completed"
    },
    "scrolled": true,
    "tags": []
   },
   "outputs": [
    {
     "data": {
      "application/vnd.jupyter.widget-view+json": {
       "model_id": "70832a281ead464b83f8be52317b7e0a",
       "version_major": 2,
       "version_minor": 0
      },
      "text/plain": [
       "  0%|          | 0/3135 [00:00<?, ?it/s]"
      ]
     },
     "metadata": {},
     "output_type": "display_data"
    }
   ],
   "source": [
    "for o in tqdm(raw.cfips.unique()): \n",
    "    indices = (raw['cfips'] == o) \n",
    "    tmp = raw.loc[indices].copy().reset_index(drop=True)\n",
    "    var = tmp.microbusiness_density.values.copy()\n",
    "    for i in range(37, 2, -1):\n",
    "        thr = 0.10 * np.mean(var[:i]) \n",
    "        difa = var[i] - var[i - 1] \n",
    "        if (difa >= thr) or (difa <= -thr):              \n",
    "            if difa > 0:\n",
    "                var[:i] += difa - 0.003 \n",
    "            else:\n",
    "                var[:i] += difa + 0.003  \n",
    "    var[0] = var[1] * 0.99\n",
    "    raw.loc[indices, 'microbusiness_density'] = var\n"
   ]
  },
  {
   "cell_type": "code",
   "execution_count": 10,
   "id": "d8de30e7",
   "metadata": {
    "execution": {
     "iopub.execute_input": "2023-03-12T07:03:56.234320Z",
     "iopub.status.busy": "2023-03-12T07:03:56.233958Z",
     "iopub.status.idle": "2023-03-12T07:03:56.515263Z",
     "shell.execute_reply": "2023-03-12T07:03:56.514214Z"
    },
    "papermill": {
     "duration": 0.29409,
     "end_time": "2023-03-12T07:03:56.518752",
     "exception": false,
     "start_time": "2023-03-12T07:03:56.224662",
     "status": "completed"
    },
    "tags": []
   },
   "outputs": [
    {
     "data": {
      "text/plain": [
       "<AxesSubplot:xlabel='dcount'>"
      ]
     },
     "execution_count": 10,
     "metadata": {},
     "output_type": "execute_result"
    },
    {
     "data": {
      "image/png": "[encoded data removed]",
      "text/plain": [
       "<Figure size 640x480 with 1 Axes>"
      ]
     },
     "metadata": {},
     "output_type": "display_data"
    }
   ],
   "source": [
    "lag = 1\n",
    "raw[f'mbd_lag_{lag}'] = raw.groupby('cfips')['microbusiness_density'].shift(lag).bfill()\n",
    "raw['dif'] = (raw['microbusiness_density'] / raw[f'mbd_lag_{lag}']).fillna(1).clip(0, None) - 1\n",
    "raw.loc[(raw[f'mbd_lag_{lag}']==0), 'dif'] = 0\n",
    "raw.loc[(raw[f'microbusiness_density']>0) & (raw[f'mbd_lag_{lag}']==0), 'dif'] = 1\n",
    "raw['dif'] = raw['dif'].abs()\n",
    "raw.groupby('dcount')['dif'].sum().plot()"
   ]
  },
  {
   "cell_type": "markdown",
   "id": "e979dd26",
   "metadata": {
    "papermill": {
     "duration": 0.008133,
     "end_time": "2023-03-12T07:03:56.535639",
     "exception": false,
     "start_time": "2023-03-12T07:03:56.527506",
     "status": "completed"
    },
    "tags": []
   },
   "source": [
    "# SMAPE is a relative metric so target must be converted."
   ]
  },
  {
   "cell_type": "code",
   "execution_count": 11,
   "id": "d5104f69",
   "metadata": {
    "execution": {
     "iopub.execute_input": "2023-03-12T07:03:56.554172Z",
     "iopub.status.busy": "2023-03-12T07:03:56.553742Z",
     "iopub.status.idle": "2023-03-12T07:03:56.573599Z",
     "shell.execute_reply": "2023-03-12T07:03:56.572436Z"
    },
    "papermill": {
     "duration": 0.032358,
     "end_time": "2023-03-12T07:03:56.576417",
     "exception": false,
     "start_time": "2023-03-12T07:03:56.544059",
     "status": "completed"
    },
    "scrolled": true,
    "tags": []
   },
   "outputs": [],
   "source": [
    "raw['target'] = raw.groupby('cfips')['microbusiness_density'].shift(-1)\n",
    "raw['target'] = raw['target']/raw['microbusiness_density'] - 1"
   ]
  },
  {
   "cell_type": "code",
   "execution_count": 12,
   "id": "b875dce7",
   "metadata": {
    "execution": {
     "iopub.execute_input": "2023-03-12T07:03:56.595598Z",
     "iopub.status.busy": "2023-03-12T07:03:56.594855Z",
     "iopub.status.idle": "2023-03-12T07:03:56.839756Z",
     "shell.execute_reply": "2023-03-12T07:03:56.838587Z"
    },
    "papermill": {
     "duration": 0.257164,
     "end_time": "2023-03-12T07:03:56.841999",
     "exception": false,
     "start_time": "2023-03-12T07:03:56.584835",
     "status": "completed"
    },
    "tags": []
   },
   "outputs": [
    {
     "data": {
      "text/plain": [
       "<AxesSubplot:>"
      ]
     },
     "execution_count": 12,
     "metadata": {},
     "output_type": "execute_result"
    },
    {
     "data": {
      "image/png": "[encoded data removed]",
      "text/plain": [
       "<Figure size 640x480 with 1 Axes>"
      ]
     },
     "metadata": {},
     "output_type": "display_data"
    }
   ],
   "source": [
    "raw['lastactive'] = raw.groupby('cfips')['active'].transform('last')\n",
    "\n",
    "dt = raw.loc[raw.dcount==40].groupby('cfips')['microbusiness_density'].agg('last')\n",
    "raw['lastactive'].clip(0, 8000).hist(bins=30)"
   ]
  },
  {
   "cell_type": "markdown",
   "id": "7af32561",
   "metadata": {
    "papermill": {
     "duration": 0.008357,
     "end_time": "2023-03-12T07:03:56.859040",
     "exception": false,
     "start_time": "2023-03-12T07:03:56.850683",
     "status": "completed"
    },
    "tags": []
   },
   "source": [
    "# Feature Engineering\n",
    "> Try tuning this part"
   ]
  },
  {
   "cell_type": "code",
   "execution_count": 7,
   "id": "b6d78120",
   "metadata": {
    "execution": {
     "iopub.execute_input": "2023-03-12T07:03:56.879015Z",
     "iopub.status.busy": "2023-03-12T07:03:56.878620Z",
     "iopub.status.idle": "2023-03-12T07:03:56.891350Z",
     "shell.execute_reply": "2023-03-12T07:03:56.890081Z"
    },
    "papermill": {
     "duration": 0.026205,
     "end_time": "2023-03-12T07:03:56.894007",
     "exception": false,
     "start_time": "2023-03-12T07:03:56.867802",
     "status": "completed"
    },
    "tags": []
   },
   "outputs": [],
   "source": [
    "def build_features(raw, target='microbusiness_density', target_act='active_tmp', lags = 6):\n",
    "    feats = []   \n",
    "\n",
    "    for lag in range(1, lags):\n",
    "        raw[f'mbd_lag_{lag}'] = raw.groupby('cfips')[target].shift(lag)\n",
    "        raw[f'act_lag_{lag}'] = raw.groupby('cfips')[target_act].diff(lag)\n",
    "        feats.append(f'mbd_lag_{lag}')\n",
    "        feats.append(f'act_lag_{lag}')\n",
    "        \n",
    "    lag = 1\n",
    "    for window in [2, 3, 4, 5, 6, 8]:\n",
    "        raw[f'mbd_rollmea{window}_{lag}'] = raw.groupby('cfips')[f'mbd_lag_{lag}'].transform(lambda s: s.rolling(window, min_periods=1).sum())  \n",
    "        raw[f'mbd_rollmea_triang{window}_{lag}'] = raw.groupby('cfips')[f'mbd_lag_{lag}'].transform(lambda s: s.rolling(window, \n",
    "                                                                                                                 min_periods=1, \n",
    "                                                                                                                 win_type='triang').sum())\n",
    "        raw[f'mbd_rollmea_gaussian{window}_{lag}'] = raw.groupby('cfips')[f'mbd_lag_{lag}'].transform(lambda s: s.rolling(window, \n",
    "                                                                                                                 min_periods=1, \n",
    "                                                                                                                 win_type='gaussian').sum(std=window))   \n",
    "        \n",
    "        feats.append(f'mbd_rollmea{window}_{lag}')\n",
    "        feats.append(f'mbd_rollmea_triang{window}_{lag}')\n",
    "        feats.append(f'mbd_rollmea_gaussian{window}_{lag}')\n",
    "        \n",
    "    lag = 1\n",
    "    for window in [2, 3, 4]:\n",
    "        raw[f'act_rollmea{window}_{lag}'] = raw.groupby('cfips')[f'act_lag_{lag}'].transform(lambda s: s.rolling(window, min_periods=1).sum())  \n",
    "        raw[f'act_rollmea_triang{window}_{lag}'] = raw.groupby('cfips')[f'act_lag_{lag}'].transform(lambda s: s.rolling(window, \n",
    "                                                                                                                 min_periods=1, \n",
    "                                                                                                                 win_type='triang').sum())\n",
    "        raw[f'act_rollmea_gaussian{window}_{lag}'] = raw.groupby('cfips')[f'act_lag_{lag}'].transform(lambda s: s.rolling(window, \n",
    "                                                                                                                 min_periods=1, \n",
    "                                                                                                                 win_type='gaussian').sum(std=window))   \n",
    "        \n",
    "        feats.append(f'act_rollmea{window}_{lag}')\n",
    "        feats.append(f'act_rollmea_triang{window}_{lag}')\n",
    "        feats.append(f'act_rollmea_gaussian{window}_{lag}')\n",
    "    \n",
    "    census_columns = list(census.columns)\n",
    "    census_columns.remove( \"cfips\")\n",
    "    \n",
    "    raw = raw.merge(census, on=\"cfips\", how=\"left\")\n",
    "    feats += census_columns\n",
    "    # loading additional data\n",
    "    co_est = pd.read_csv(\"/kaggle/input/us-indicator/co-est2021-alldata.csv\", encoding='latin-1')\n",
    "    co_est[\"cfips\"] = co_est.STATE*1000 + co_est.COUNTY\n",
    "    co_columns = [\n",
    "        'SUMLEV',\n",
    "        'DIVISION',\n",
    "        'ESTIMATESBASE2020',\n",
    "        'POPESTIMATE2020',\n",
    "        'POPESTIMATE2021',\n",
    "        'NPOPCHG2020',\n",
    "        'NPOPCHG2021',\n",
    "        'BIRTHS2020',\n",
    "        'BIRTHS2021',\n",
    "        'DEATHS2020',\n",
    "        'DEATHS2021',\n",
    "        'NATURALCHG2020',\n",
    "        'NATURALCHG2021',\n",
    "        'INTERNATIONALMIG2020',\n",
    "        'INTERNATIONALMIG2021',\n",
    "        'DOMESTICMIG2020',\n",
    "        'DOMESTICMIG2021',\n",
    "        'NETMIG2020',\n",
    "        'NETMIG2021',\n",
    "        'RESIDUAL2020',\n",
    "        'RESIDUAL2021',\n",
    "        'GQESTIMATESBASE2020',\n",
    "        'GQESTIMATES2020',\n",
    "        'GQESTIMATES2021',\n",
    "        'RBIRTH2021',\n",
    "        'RDEATH2021',\n",
    "        'RNATURALCHG2021',\n",
    "        'RINTERNATIONALMIG2021',\n",
    "        'RDOMESTICMIG2021',\n",
    "        'RNETMIG2021'\n",
    "    ]\n",
    "    raw = raw.merge(co_est, on=\"cfips\", how=\"left\")\n",
    "    feats +=  co_columns\n",
    "    return raw, feats"
   ]
  },
  {
   "cell_type": "code",
   "execution_count": 8,
   "id": "0198dcff",
   "metadata": {
    "execution": {
     "iopub.execute_input": "2023-03-12T07:03:56.913945Z",
     "iopub.status.busy": "2023-03-12T07:03:56.912919Z",
     "iopub.status.idle": "2023-03-12T07:04:06.842122Z",
     "shell.execute_reply": "2023-03-12T07:04:06.840789Z"
    },
    "papermill": {
     "duration": 9.942055,
     "end_time": "2023-03-12T07:04:06.845015",
     "exception": false,
     "start_time": "2023-03-12T07:03:56.902960",
     "status": "completed"
    },
    "scrolled": true,
    "tags": []
   },
   "outputs": [
    {
     "name": "stdout",
     "output_type": "stream",
     "text": [
      "['state_i', 'mbd_lag_1', 'act_lag_1', 'mbd_lag_2', 'act_lag_2', 'mbd_lag_3', 'act_lag_3', 'mbd_lag_4', 'act_lag_4', 'mbd_lag_5', 'act_lag_5', 'mbd_lag_6', 'act_lag_6', 'mbd_lag_7', 'act_lag_7', 'mbd_lag_8', 'act_lag_8', 'mbd_rollmea2_1', 'mbd_rollmea4_1', 'mbd_rollmea6_1', 'mbd_rollmea8_1', 'mbd_rollmea10_1', 'pct_bb_2017', 'pct_bb_2018', 'pct_bb_2019', 'pct_bb_2020', 'pct_bb_2021', 'pct_college_2017', 'pct_college_2018', 'pct_college_2019', 'pct_college_2020', 'pct_college_2021', 'pct_foreign_born_2017', 'pct_foreign_born_2018', 'pct_foreign_born_2019', 'pct_foreign_born_2020', 'pct_foreign_born_2021', 'pct_it_workers_2017', 'pct_it_workers_2018', 'pct_it_workers_2019', 'pct_it_workers_2020', 'pct_it_workers_2021', 'median_hh_inc_2017', 'median_hh_inc_2018', 'median_hh_inc_2019', 'median_hh_inc_2020', 'median_hh_inc_2021', 'SUMLEV', 'DIVISION', 'ESTIMATESBASE2020', 'POPESTIMATE2020', 'POPESTIMATE2021', 'NPOPCHG2020', 'NPOPCHG2021', 'BIRTHS2020', 'BIRTHS2021', 'DEATHS2020', 'DEATHS2021', 'NATURALCHG2020', 'NATURALCHG2021', 'INTERNATIONALMIG2020', 'INTERNATIONALMIG2021', 'DOMESTICMIG2020', 'DOMESTICMIG2021', 'NETMIG2020', 'NETMIG2021', 'RESIDUAL2020', 'RESIDUAL2021', 'GQESTIMATESBASE2020', 'GQESTIMATES2020', 'GQESTIMATES2021', 'RBIRTH2021', 'RDEATH2021', 'RNATURALCHG2021', 'RINTERNATIONALMIG2021', 'RDOMESTICMIG2021', 'RNETMIG2021', 'lng', 'lat', 'scale']\n"
     ]
    },
    {
     "data": {
      "text/html": [
       "<div>\n",
       "<style scoped>\n",
       "    .dataframe tbody tr th:only-of-type {\n",
       "        vertical-align: middle;\n",
       "    }\n",
       "\n",
       "    .dataframe tbody tr th {\n",
       "        vertical-align: top;\n",
       "    }\n",
       "\n",
       "    .dataframe thead th {\n",
       "        text-align: right;\n",
       "    }\n",
       "</style>\n",
       "<table border=\"1\" class=\"dataframe\">\n",
       "  <thead>\n",
       "    <tr style=\"text-align: right;\">\n",
       "      <th></th>\n",
       "      <th>state_i</th>\n",
       "      <th>mbd_lag_1</th>\n",
       "      <th>act_lag_1</th>\n",
       "      <th>mbd_lag_2</th>\n",
       "      <th>act_lag_2</th>\n",
       "      <th>mbd_lag_3</th>\n",
       "      <th>act_lag_3</th>\n",
       "      <th>mbd_lag_4</th>\n",
       "      <th>act_lag_4</th>\n",
       "      <th>mbd_lag_5</th>\n",
       "      <th>...</th>\n",
       "      <th>GQESTIMATES2021</th>\n",
       "      <th>RBIRTH2021</th>\n",
       "      <th>RDEATH2021</th>\n",
       "      <th>RNATURALCHG2021</th>\n",
       "      <th>RINTERNATIONALMIG2021</th>\n",
       "      <th>RDOMESTICMIG2021</th>\n",
       "      <th>RNETMIG2021</th>\n",
       "      <th>lng</th>\n",
       "      <th>lat</th>\n",
       "      <th>scale</th>\n",
       "    </tr>\n",
       "  </thead>\n",
       "  <tbody>\n",
       "    <tr>\n",
       "      <th>40</th>\n",
       "      <td>0</td>\n",
       "      <td>0.008202</td>\n",
       "      <td>12.0</td>\n",
       "      <td>-0.006114</td>\n",
       "      <td>3.0</td>\n",
       "      <td>0.006152</td>\n",
       "      <td>12.0</td>\n",
       "      <td>0.005498</td>\n",
       "      <td>20.0</td>\n",
       "      <td>-0.004107</td>\n",
       "      <td>...</td>\n",
       "      <td>442</td>\n",
       "      <td>11.002611</td>\n",
       "      <td>11.545112</td>\n",
       "      <td>-0.542502</td>\n",
       "      <td>0.084766</td>\n",
       "      <td>4.017903</td>\n",
       "      <td>4.102668</td>\n",
       "      <td>-86.642900</td>\n",
       "      <td>32.535142</td>\n",
       "      <td>40</td>\n",
       "    </tr>\n",
       "    <tr>\n",
       "      <th>87</th>\n",
       "      <td>0</td>\n",
       "      <td>-0.000848</td>\n",
       "      <td>-12.0</td>\n",
       "      <td>-0.012221</td>\n",
       "      <td>-187.0</td>\n",
       "      <td>0.002170</td>\n",
       "      <td>-156.0</td>\n",
       "      <td>-0.017601</td>\n",
       "      <td>-412.0</td>\n",
       "      <td>-0.009601</td>\n",
       "      <td>...</td>\n",
       "      <td>2177</td>\n",
       "      <td>9.567474</td>\n",
       "      <td>12.137145</td>\n",
       "      <td>-2.569671</td>\n",
       "      <td>0.266704</td>\n",
       "      <td>28.702422</td>\n",
       "      <td>28.969126</td>\n",
       "      <td>-87.722745</td>\n",
       "      <td>30.727825</td>\n",
       "      <td>40</td>\n",
       "    </tr>\n",
       "    <tr>\n",
       "      <th>134</th>\n",
       "      <td>0</td>\n",
       "      <td>0.004049</td>\n",
       "      <td>1.0</td>\n",
       "      <td>0.012295</td>\n",
       "      <td>4.0</td>\n",
       "      <td>0.020921</td>\n",
       "      <td>9.0</td>\n",
       "      <td>0.008439</td>\n",
       "      <td>11.0</td>\n",
       "      <td>-0.016597</td>\n",
       "      <td>...</td>\n",
       "      <td>2789</td>\n",
       "      <td>10.928526</td>\n",
       "      <td>15.714742</td>\n",
       "      <td>-4.786216</td>\n",
       "      <td>0.039885</td>\n",
       "      <td>-3.908743</td>\n",
       "      <td>-3.868858</td>\n",
       "      <td>-85.391068</td>\n",
       "      <td>31.870090</td>\n",
       "      <td>40</td>\n",
       "    </tr>\n",
       "    <tr>\n",
       "      <th>181</th>\n",
       "      <td>0</td>\n",
       "      <td>0.008811</td>\n",
       "      <td>2.0</td>\n",
       "      <td>-0.008734</td>\n",
       "      <td>0.0</td>\n",
       "      <td>-0.021367</td>\n",
       "      <td>-5.0</td>\n",
       "      <td>0.017391</td>\n",
       "      <td>-1.0</td>\n",
       "      <td>-0.025424</td>\n",
       "      <td>...</td>\n",
       "      <td>2062</td>\n",
       "      <td>10.111857</td>\n",
       "      <td>12.617450</td>\n",
       "      <td>-2.505593</td>\n",
       "      <td>0.089485</td>\n",
       "      <td>13.825503</td>\n",
       "      <td>13.914989</td>\n",
       "      <td>-87.126814</td>\n",
       "      <td>32.998376</td>\n",
       "      <td>40</td>\n",
       "    </tr>\n",
       "    <tr>\n",
       "      <th>228</th>\n",
       "      <td>0</td>\n",
       "      <td>0.008589</td>\n",
       "      <td>7.0</td>\n",
       "      <td>0.002460</td>\n",
       "      <td>9.0</td>\n",
       "      <td>-0.010949</td>\n",
       "      <td>0.0</td>\n",
       "      <td>0.008589</td>\n",
       "      <td>7.0</td>\n",
       "      <td>0.002460</td>\n",
       "      <td>...</td>\n",
       "      <td>449</td>\n",
       "      <td>10.650006</td>\n",
       "      <td>13.883950</td>\n",
       "      <td>-3.233945</td>\n",
       "      <td>0.033863</td>\n",
       "      <td>2.370431</td>\n",
       "      <td>2.404294</td>\n",
       "      <td>-86.567006</td>\n",
       "      <td>33.980871</td>\n",
       "      <td>40</td>\n",
       "    </tr>\n",
       "    <tr>\n",
       "      <th>275</th>\n",
       "      <td>0</td>\n",
       "      <td>0.012500</td>\n",
       "      <td>1.0</td>\n",
       "      <td>0.025641</td>\n",
       "      <td>3.0</td>\n",
       "      <td>0.012987</td>\n",
       "      <td>4.0</td>\n",
       "      <td>0.013158</td>\n",
       "      <td>5.0</td>\n",
       "      <td>0.013333</td>\n",
       "      <td>...</td>\n",
       "      <td>1725</td>\n",
       "      <td>12.603616</td>\n",
       "      <td>12.506665</td>\n",
       "      <td>0.096951</td>\n",
       "      <td>0.096951</td>\n",
       "      <td>0.678656</td>\n",
       "      <td>0.775607</td>\n",
       "      <td>-85.715729</td>\n",
       "      <td>32.100459</td>\n",
       "      <td>40</td>\n",
       "    </tr>\n",
       "    <tr>\n",
       "      <th>322</th>\n",
       "      <td>0</td>\n",
       "      <td>0.005970</td>\n",
       "      <td>2.0</td>\n",
       "      <td>0.000000</td>\n",
       "      <td>2.0</td>\n",
       "      <td>0.009036</td>\n",
       "      <td>5.0</td>\n",
       "      <td>0.027864</td>\n",
       "      <td>14.0</td>\n",
       "      <td>0.031949</td>\n",
       "      <td>...</td>\n",
       "      <td>241</td>\n",
       "      <td>11.284242</td>\n",
       "      <td>15.555380</td>\n",
       "      <td>-4.271138</td>\n",
       "      <td>0.158190</td>\n",
       "      <td>-4.376598</td>\n",
       "      <td>-4.218408</td>\n",
       "      <td>-86.680409</td>\n",
       "      <td>31.752524</td>\n",
       "      <td>40</td>\n",
       "    </tr>\n",
       "    <tr>\n",
       "      <th>369</th>\n",
       "      <td>0</td>\n",
       "      <td>0.002808</td>\n",
       "      <td>7.0</td>\n",
       "      <td>-0.005981</td>\n",
       "      <td>-8.0</td>\n",
       "      <td>-0.003180</td>\n",
       "      <td>-16.0</td>\n",
       "      <td>0.007609</td>\n",
       "      <td>3.0</td>\n",
       "      <td>0.002006</td>\n",
       "      <td>...</td>\n",
       "      <td>3251</td>\n",
       "      <td>11.367649</td>\n",
       "      <td>14.743496</td>\n",
       "      <td>-3.375847</td>\n",
       "      <td>0.034447</td>\n",
       "      <td>0.602830</td>\n",
       "      <td>0.637277</td>\n",
       "      <td>-85.825747</td>\n",
       "      <td>33.771415</td>\n",
       "      <td>40</td>\n",
       "    </tr>\n",
       "    <tr>\n",
       "      <th>416</th>\n",
       "      <td>0</td>\n",
       "      <td>0.002571</td>\n",
       "      <td>1.0</td>\n",
       "      <td>0.018325</td>\n",
       "      <td>8.0</td>\n",
       "      <td>-0.040201</td>\n",
       "      <td>-8.0</td>\n",
       "      <td>-0.012407</td>\n",
       "      <td>-13.0</td>\n",
       "      <td>-0.017073</td>\n",
       "      <td>...</td>\n",
       "      <td>449</td>\n",
       "      <td>10.286193</td>\n",
       "      <td>14.793626</td>\n",
       "      <td>-4.507433</td>\n",
       "      <td>0.606770</td>\n",
       "      <td>-0.231150</td>\n",
       "      <td>0.375619</td>\n",
       "      <td>-85.391689</td>\n",
       "      <td>32.913666</td>\n",
       "      <td>40</td>\n",
       "    </tr>\n",
       "    <tr>\n",
       "      <th>463</th>\n",
       "      <td>0</td>\n",
       "      <td>0.008368</td>\n",
       "      <td>2.0</td>\n",
       "      <td>0.017021</td>\n",
       "      <td>6.0</td>\n",
       "      <td>-0.012605</td>\n",
       "      <td>3.0</td>\n",
       "      <td>0.000000</td>\n",
       "      <td>3.0</td>\n",
       "      <td>-0.008333</td>\n",
       "      <td>...</td>\n",
       "      <td>181</td>\n",
       "      <td>9.528766</td>\n",
       "      <td>18.937422</td>\n",
       "      <td>-9.408656</td>\n",
       "      <td>0.040037</td>\n",
       "      <td>10.849982</td>\n",
       "      <td>10.890019</td>\n",
       "      <td>-85.603871</td>\n",
       "      <td>34.175887</td>\n",
       "      <td>40</td>\n",
       "    </tr>\n",
       "  </tbody>\n",
       "</table>\n",
       "<p>10 rows × 80 columns</p>\n",
       "</div>"
      ],
      "text/plain": [
       "     state_i  mbd_lag_1  act_lag_1  mbd_lag_2  act_lag_2  mbd_lag_3  \\\n",
       "40         0   0.008202       12.0  -0.006114        3.0   0.006152   \n",
       "87         0  -0.000848      -12.0  -0.012221     -187.0   0.002170   \n",
       "134        0   0.004049        1.0   0.012295        4.0   0.020921   \n",
       "181        0   0.008811        2.0  -0.008734        0.0  -0.021367   \n",
       "228        0   0.008589        7.0   0.002460        9.0  -0.010949   \n",
       "275        0   0.012500        1.0   0.025641        3.0   0.012987   \n",
       "322        0   0.005970        2.0   0.000000        2.0   0.009036   \n",
       "369        0   0.002808        7.0  -0.005981       -8.0  -0.003180   \n",
       "416        0   0.002571        1.0   0.018325        8.0  -0.040201   \n",
       "463        0   0.008368        2.0   0.017021        6.0  -0.012605   \n",
       "\n",
       "     act_lag_3  mbd_lag_4  act_lag_4  mbd_lag_5  ...  GQESTIMATES2021  \\\n",
       "40        12.0   0.005498       20.0  -0.004107  ...              442   \n",
       "87      -156.0  -0.017601     -412.0  -0.009601  ...             2177   \n",
       "134        9.0   0.008439       11.0  -0.016597  ...             2789   \n",
       "181       -5.0   0.017391       -1.0  -0.025424  ...             2062   \n",
       "228        0.0   0.008589        7.0   0.002460  ...              449   \n",
       "275        4.0   0.013158        5.0   0.013333  ...             1725   \n",
       "322        5.0   0.027864       14.0   0.031949  ...              241   \n",
       "369      -16.0   0.007609        3.0   0.002006  ...             3251   \n",
       "416       -8.0  -0.012407      -13.0  -0.017073  ...              449   \n",
       "463        3.0   0.000000        3.0  -0.008333  ...              181   \n",
       "\n",
       "     RBIRTH2021  RDEATH2021  RNATURALCHG2021  RINTERNATIONALMIG2021  \\\n",
       "40    11.002611   11.545112        -0.542502               0.084766   \n",
       "87     9.567474   12.137145        -2.569671               0.266704   \n",
       "134   10.928526   15.714742        -4.786216               0.039885   \n",
       "181   10.111857   12.617450        -2.505593               0.089485   \n",
       "228   10.650006   13.883950        -3.233945               0.033863   \n",
       "275   12.603616   12.506665         0.096951               0.096951   \n",
       "322   11.284242   15.555380        -4.271138               0.158190   \n",
       "369   11.367649   14.743496        -3.375847               0.034447   \n",
       "416   10.286193   14.793626        -4.507433               0.606770   \n",
       "463    9.528766   18.937422        -9.408656               0.040037   \n",
       "\n",
       "     RDOMESTICMIG2021  RNETMIG2021        lng        lat  scale  \n",
       "40           4.017903     4.102668 -86.642900  32.535142     40  \n",
       "87          28.702422    28.969126 -87.722745  30.727825     40  \n",
       "134         -3.908743    -3.868858 -85.391068  31.870090     40  \n",
       "181         13.825503    13.914989 -87.126814  32.998376     40  \n",
       "228          2.370431     2.404294 -86.567006  33.980871     40  \n",
       "275          0.678656     0.775607 -85.715729  32.100459     40  \n",
       "322         -4.376598    -4.218408 -86.680409  31.752524     40  \n",
       "369          0.602830     0.637277 -85.825747  33.771415     40  \n",
       "416         -0.231150     0.375619 -85.391689  32.913666     40  \n",
       "463         10.849982    10.890019 -85.603871  34.175887     40  \n",
       "\n",
       "[10 rows x 80 columns]"
      ]
     },
     "execution_count": 8,
     "metadata": {},
     "output_type": "execute_result"
    }
   ],
   "source": [
    "# Build Features based in lag of target\n",
    "raw, feats = build_features(raw, 'target', 'active', lags = 9)\n",
    "features = ['state_i'] # state number \n",
    "features += feats\n",
    "features += ['lng','lat','scale'] # geodata coordinates and day number"
   ]
  },
  {
   "cell_type": "code",
   "execution_count": null,
   "id": "ace586a9",
   "metadata": {},
   "outputs": [],
   "source": [
    "values_list = [13101.0,48301.0,13265.0,28055.0,48033.0,48261.0,48269.0,31005.0,31009.0,31115.0,31165.0,48393.0,16033.0,31183.0,38087.0,2282.0,31007.0,31113.0,46003.0,46017.0]\n",
    "Kmean_df = pd.read_csv('./' + 'k_means_graph_scaled_update.csv')\n",
    "#Kmean_50 = pd.read_csv('./' + 'k_means_graph_50.csv')\n",
    "#kmeans=Kmean_50[['cfips','K-means_Elbow']]\n",
    "#kmeans.columns = ['cfips','Elbow']\n",
    "raw = raw.merge(Kmean_df[['cfips','K-means_Silhouette','K-means_Elbow']], on=\"cfips\", how=\"left\")\n",
    "#raw = raw.merge(kmeans[['cfips','Elbow']], on=\"cfips\", how=\"left\")"
   ]
  },
  {
   "cell_type": "code",
   "execution_count": null,
   "id": "743810a9",
   "metadata": {},
   "outputs": [],
   "source": [
    "features += ['K-means_Silhouette','K-means_Elbow']\n",
    "features.remove('state_i')"
   ]
  },
  {
   "cell_type": "markdown",
   "id": "2df16fdd",
   "metadata": {
    "papermill": {
     "duration": 0.009388,
     "end_time": "2023-03-12T07:04:06.864167",
     "exception": false,
     "start_time": "2023-03-12T07:04:06.854779",
     "status": "completed"
    },
    "tags": []
   },
   "source": [
    "Latitude and Longitude feature engineering from samu2505."
   ]
  },
  {
   "cell_type": "code",
   "execution_count": 9,
   "id": "4b126a61",
   "metadata": {
    "execution": {
     "iopub.execute_input": "2023-03-12T07:04:06.885267Z",
     "iopub.status.busy": "2023-03-12T07:04:06.884771Z",
     "iopub.status.idle": "2023-03-12T07:04:06.969652Z",
     "shell.execute_reply": "2023-03-12T07:04:06.968113Z"
    },
    "papermill": {
     "duration": 0.099395,
     "end_time": "2023-03-12T07:04:06.972893",
     "exception": false,
     "start_time": "2023-03-12T07:04:06.873498",
     "status": "completed"
    },
    "tags": []
   },
   "outputs": [],
   "source": [
    "# geodata processing\n",
    "coordinates = raw[['lng', 'lat']].values\n",
    "\n",
    "# Encoding tricks\n",
    "emb_size = 20\n",
    "precision = 1e6\n",
    "\n",
    "latlon = np.expand_dims(coordinates, axis=-1)\n",
    "\n",
    "m = np.exp(np.log(precision)/emb_size)\n",
    "angle_freq = m ** np.arange(emb_size)\n",
    "angle_freq = angle_freq.reshape(1,1, emb_size)\n",
    "latlon = latlon * angle_freq\n",
    "latlon[..., 0::2] = np.cos(latlon[..., 0::2])"
   ]
  },
  {
   "cell_type": "code",
   "execution_count": 10,
   "id": "44bcb941",
   "metadata": {
    "execution": {
     "iopub.execute_input": "2023-03-12T07:04:06.994603Z",
     "iopub.status.busy": "2023-03-12T07:04:06.994089Z",
     "iopub.status.idle": "2023-03-12T07:04:07.019208Z",
     "shell.execute_reply": "2023-03-12T07:04:07.018265Z"
    },
    "papermill": {
     "duration": 0.039141,
     "end_time": "2023-03-12T07:04:07.021994",
     "exception": false,
     "start_time": "2023-03-12T07:04:06.982853",
     "status": "completed"
    },
    "tags": []
   },
   "outputs": [],
   "source": [
    "def rot(df):\n",
    "    for angle in [15, 30, 45]:\n",
    "        df[f'rot_{angle}_x'] = (np.cos(np.radians(angle)) * df['lat']) + \\\n",
    "                                (np.sin(np.radians(angle)) * df['lng'])\n",
    "        \n",
    "        df[f'rot_{angle}_y'] = (np.cos(np.radians(angle)) * df['lat']) - \\\n",
    "                                (np.sin(np.radians(angle)) * df['lng'])\n",
    "        \n",
    "    return df\n",
    "\n",
    "raw = rot(raw)"
   ]
  },
  {
   "cell_type": "code",
   "execution_count": 11,
   "id": "652eddaa",
   "metadata": {
    "execution": {
     "iopub.execute_input": "2023-03-12T07:04:07.044792Z",
     "iopub.status.busy": "2023-03-12T07:04:07.043187Z",
     "iopub.status.idle": "2023-03-12T07:04:07.049659Z",
     "shell.execute_reply": "2023-03-12T07:04:07.048747Z"
    },
    "papermill": {
     "duration": 0.020194,
     "end_time": "2023-03-12T07:04:07.052051",
     "exception": false,
     "start_time": "2023-03-12T07:04:07.031857",
     "status": "completed"
    },
    "tags": []
   },
   "outputs": [],
   "source": [
    "features += ['rot_15_x', 'rot_15_y', 'rot_30_x', 'rot_30_y', 'rot_45_x', 'rot_45_y']"
   ]
  },
  {
   "cell_type": "code",
   "execution_count": 12,
   "id": "5e60ce18",
   "metadata": {
    "execution": {
     "iopub.execute_input": "2023-03-12T07:04:07.075129Z",
     "iopub.status.busy": "2023-03-12T07:04:07.073605Z",
     "iopub.status.idle": "2023-03-12T07:04:07.088759Z",
     "shell.execute_reply": "2023-03-12T07:04:07.087638Z"
    },
    "papermill": {
     "duration": 0.029675,
     "end_time": "2023-03-12T07:04:07.091911",
     "exception": false,
     "start_time": "2023-03-12T07:04:07.062236",
     "status": "completed"
    },
    "tags": []
   },
   "outputs": [],
   "source": [
    "def get_model():\n",
    "    from sklearn.ensemble import VotingRegressor\n",
    "    import lightgbm as lgb\n",
    "    import xgboost as xgb\n",
    "    import catboost as cat\n",
    "    from sklearn.pipeline import Pipeline\n",
    "    from sklearn.neighbors import KNeighborsRegressor\n",
    "    from sklearn.impute import KNNImputer    \n",
    "\n",
    "# we should decrease the num_iterations of catboost\n",
    "    cat_model = cat.CatBoostRegressor(\n",
    "        iterations=2000,\n",
    "        loss_function=\"MAPE\",\n",
    "        verbose=0,\n",
    "        grow_policy='SymmetricTree',\n",
    "        learning_rate=0.035,\n",
    "        colsample_bylevel=0.8,\n",
    "        max_depth=5,\n",
    "        l2_leaf_reg=0.2,\n",
    "        subsample=0.70,\n",
    "        max_bin=4096,\n",
    "    )\n",
    "\n",
    "    return cat_model\n",
    "\n",
    "\n",
    "def base_models():\n",
    "    from sklearn.ensemble import VotingRegressor\n",
    "    import lightgbm as lgb\n",
    "    import xgboost as xgb\n",
    "    import catboost as cat\n",
    "    from sklearn.pipeline import Pipeline\n",
    "    from sklearn.neighbors import KNeighborsRegressor\n",
    "    from sklearn.impute import KNNImputer    \n",
    "    \n",
    "    # LGBM model\n",
    "    params = {\n",
    "    'n_iter': 300,\n",
    "    'boosting_type': 'dart',\n",
    "    'verbosity': -1,\n",
    "    'objective': 'l1',\n",
    "    'random_state': 42,\n",
    "    'colsample_bytree': 0.8841279649367693,\n",
    "    'colsample_bynode': 0.10142964450634374,\n",
    "    'max_depth': 8,\n",
    "    'learning_rate': 0.003647749926797374,\n",
    "    'lambda_l2': 0.5,\n",
    "    'num_leaves': 61,\n",
    "    \"seed\": 42,\n",
    "    'min_data_in_leaf': 213}\n",
    "\n",
    "    lgb_model = lgb.LGBMRegressor(**params)\n",
    "    \n",
    "    xgb_model = xgb.XGBRegressor(\n",
    "    objective='reg:pseudohubererror',\n",
    "    tree_method=\"hist\",\n",
    "    n_estimators=795,\n",
    "    learning_rate=0.0075,\n",
    "    max_leaves = 17,\n",
    "    subsample=0.50,\n",
    "    colsample_bytree=0.50,\n",
    "    max_bin=4096,\n",
    "    n_jobs=2)\n",
    "\n",
    "    # we should decrease the num_iterations of catboost\n",
    "    cat_model = cat.CatBoostRegressor(\n",
    "        iterations=2500,\n",
    "        loss_function=\"MAPE\",\n",
    "        verbose=0,\n",
    "        grow_policy='SymmetricTree',\n",
    "        learning_rate=0.035,\n",
    "        colsample_bylevel=0.8,\n",
    "        max_depth=5,\n",
    "        l2_leaf_reg=0.2,\n",
    "        subsample=0.70,\n",
    "        max_bin=4096,\n",
    "    )\n",
    "    \n",
    "    models = {}\n",
    "    models['xgb'] = xgb_model\n",
    "    models['lgbm'] = lgb_model\n",
    "    models['cat'] = cat_model\n",
    "\n",
    "    return models"
   ]
  },
  {
   "cell_type": "code",
   "execution_count": 13,
   "id": "6f90410a",
   "metadata": {
    "execution": {
     "iopub.execute_input": "2023-03-12T07:04:07.117672Z",
     "iopub.status.busy": "2023-03-12T07:04:07.117150Z",
     "iopub.status.idle": "2023-03-12T07:04:07.123365Z",
     "shell.execute_reply": "2023-03-12T07:04:07.121812Z"
    },
    "papermill": {
     "duration": 0.022974,
     "end_time": "2023-03-12T07:04:07.127100",
     "exception": false,
     "start_time": "2023-03-12T07:04:07.104126",
     "status": "completed"
    },
    "tags": []
   },
   "outputs": [],
   "source": [
    "ACT_THR = 150\n",
    "MONTH_1 = 39\n",
    "MONTH_last = 40"
   ]
  },
  {
   "cell_type": "code",
   "execution_count": 14,
   "id": "7540cc13",
   "metadata": {
    "execution": {
     "iopub.execute_input": "2023-03-12T07:04:07.156843Z",
     "iopub.status.busy": "2023-03-12T07:04:07.156277Z",
     "iopub.status.idle": "2023-03-12T07:04:07.276688Z",
     "shell.execute_reply": "2023-03-12T07:04:07.275505Z"
    },
    "papermill": {
     "duration": 0.137381,
     "end_time": "2023-03-12T07:04:07.279741",
     "exception": false,
     "start_time": "2023-03-12T07:04:07.142360",
     "status": "completed"
    },
    "tags": []
   },
   "outputs": [
    {
     "data": {
      "text/plain": [
       "(128535, 107)"
      ]
     },
     "execution_count": 14,
     "metadata": {},
     "output_type": "execute_result"
    }
   ],
   "source": [
    "raw[raw.istest == 0].shape"
   ]
  },
  {
   "cell_type": "code",
   "execution_count": 15,
   "id": "927173af",
   "metadata": {
    "execution": {
     "iopub.execute_input": "2023-03-12T07:04:07.300871Z",
     "iopub.status.busy": "2023-03-12T07:04:07.300430Z",
     "iopub.status.idle": "2023-03-12T07:09:14.108787Z",
     "shell.execute_reply": "2023-03-12T07:09:14.107546Z"
    },
    "papermill": {
     "duration": 306.831859,
     "end_time": "2023-03-12T07:09:14.121281",
     "exception": false,
     "start_time": "2023-03-12T07:04:07.289422",
     "status": "completed"
    },
    "tags": []
   },
   "outputs": [
    {
     "name": "stdout",
     "output_type": "stream",
     "text": [
      "TS: 39\n"
     ]
    },
    {
     "data": {
      "text/html": [
       "<style type='text/css'>\n",
       ".datatable table.frame { margin-bottom: 0; }\n",
       ".datatable table.frame thead { border-bottom: none; }\n",
       ".datatable table.frame tr.coltypes td {  color: #FFFFFF;  line-height: 6px;  padding: 0 0.5em;}\n",
       ".datatable .bool    { background: #DDDD99; }\n",
       ".datatable .object  { background: #565656; }\n",
       ".datatable .int     { background: #5D9E5D; }\n",
       ".datatable .float   { background: #4040CC; }\n",
       ".datatable .str     { background: #CC4040; }\n",
       ".datatable .time    { background: #40CC40; }\n",
       ".datatable .row_index {  background: var(--jp-border-color3);  border-right: 1px solid var(--jp-border-color0);  color: var(--jp-ui-font-color3);  font-size: 9px;}\n",
       ".datatable .frame tbody td { text-align: left; }\n",
       ".datatable .frame tr.coltypes .row_index {  background: var(--jp-border-color0);}\n",
       ".datatable th:nth-child(2) { padding-left: 12px; }\n",
       ".datatable .hellipsis {  color: var(--jp-cell-editor-border-color);}\n",
       ".datatable .vellipsis {  background: var(--jp-layout-color0);  color: var(--jp-cell-editor-border-color);}\n",
       ".datatable .na {  color: var(--jp-cell-editor-border-color);  font-size: 80%;}\n",
       ".datatable .sp {  opacity: 0.25;}\n",
       ".datatable .footer { font-size: 9px; }\n",
       ".datatable .frame_dimensions {  background: var(--jp-border-color3);  border-top: 1px solid var(--jp-border-color0);  color: var(--jp-ui-font-color3);  display: inline-block;  opacity: 0.6;  padding: 1px 10px 1px 5px;}\n",
       "</style>\n"
      ],
      "text/plain": [
       "<IPython.core.display.HTML object>"
      ]
     },
     "metadata": {},
     "output_type": "display_data"
    },
    {
     "name": "stderr",
     "output_type": "stream",
     "text": [
      "/opt/conda/lib/python3.7/site-packages/lightgbm/engine.py:177: UserWarning: Found `n_iter` in params. Will use it instead of argument\n",
      "  _log_warning(f\"Found `{alias}` in params. Will use it instead of argument\")\n"
     ]
    },
    {
     "name": "stdout",
     "output_type": "stream",
     "text": [
      "[LightGBM] [Warning] lambda_l2 is set=0.5, reg_lambda=0.0 will be ignored. Current value: lambda_l2=0.5\n",
      "[LightGBM] [Warning] min_data_in_leaf is set=213, min_child_samples=20 will be ignored. Current value: min_data_in_leaf=213\n",
      "[LightGBM] [Warning] seed is set=42, random_state=42 will be ignored. Current value: seed=42\n",
      "[LightGBM] [Warning] num_iterations is set=300, n_iter=300 will be ignored. Current value: num_iterations=300\n",
      "Last Value SMAPE: 1.889206717018118\n",
      "SMAPE: 1.8626317878552674\n",
      "\n",
      "SMAPE: 1.8626317878552674\n",
      "Last Value SMAPE: 1.889206717018118\n"
     ]
    }
   ],
   "source": [
    "raw['ypred_last'] = np.nan\n",
    "raw['ypred'] = np.nan\n",
    "raw['k'] = 1.\n",
    "raw['microbusiness_density'].fillna(0, inplace = True)\n",
    "\n",
    "for TS in range(MONTH_1, MONTH_last): \n",
    "    print(f'TS: {TS}')\n",
    "    \n",
    "    models = base_models()\n",
    "    model0 = models['xgb']\n",
    "    model1 = models['lgbm']\n",
    "    model2 = models['cat']\n",
    "            \n",
    "    train_indices = (raw.istest==0) & (raw.dcount  < TS) & (raw.dcount >= 19) & (raw.lastactive>ACT_THR) & (~raw['cfips'].isin(values_list))\n",
    "    valid_indices = (raw.istest==0) & (raw.dcount == TS) \n",
    "    \n",
    "    # Train each of the models on the current TS\n",
    "    model0.fit(\n",
    "        raw.loc[train_indices, features],\n",
    "        raw.loc[train_indices, 'target'].clip(-0.002, 0.006))\n",
    "    \n",
    "    model1.fit(\n",
    "        raw.loc[train_indices, features],\n",
    "        raw.loc[train_indices, 'target'].clip(-0.002, 0.006))\n",
    "    \n",
    "    model2.fit(\n",
    "        raw.loc[train_indices, features],\n",
    "        raw.loc[train_indices, 'target'].clip(-0.002, 0.006))\n",
    "    \n",
    "\n",
    "    tr_pred0 = model0.predict(raw.loc[train_indices, features])\n",
    "    tr_pred1 = model1.predict(raw.loc[train_indices, features])\n",
    "    tr_pred2 = model2.predict(raw.loc[train_indices, features])\n",
    "    train_preds = np.column_stack((tr_pred0, tr_pred1, tr_pred2))\n",
    "    \n",
    "    meta_model = get_model() \n",
    "    meta_model.fit(train_preds, raw.loc[train_indices, 'target'].clip(-0.002, 0.006))\n",
    "    \n",
    "    val_preds0 = model0.predict(raw.loc[valid_indices, features])\n",
    "    val_preds1 = model1.predict(raw.loc[valid_indices, features])\n",
    "    val_preds2 = model2.predict(raw.loc[valid_indices, features])\n",
    "    valid_preds = np.column_stack((val_preds0, val_preds1, val_preds2))\n",
    "    \n",
    "    ypred = meta_model.predict(valid_preds)\n",
    "    # get value 'microbusiness_density' from target\n",
    "    raw.loc[valid_indices, 'k'] = ypred + 1\n",
    "    raw.loc[valid_indices,'k'] = raw.loc[valid_indices,'k'] * raw.loc[valid_indices,'microbusiness_density']\n",
    "\n",
    "    # Validate\n",
    "    lastval = raw.loc[raw.dcount==TS, ['cfips', 'microbusiness_density']].set_index('cfips').to_dict()['microbusiness_density']\n",
    "    dt = raw.loc[raw.dcount==TS, ['cfips', 'k']].set_index('cfips').to_dict()['k']\n",
    "    \n",
    "    df = raw.loc[raw.dcount==(TS+1), \n",
    "                 ['cfips', 'microbusiness_density', 'state', 'lastactive', 'mbd_lag_1']].reset_index(drop=True)\n",
    "    df['pred'] = df['cfips'].map(dt)\n",
    "    df['lastval'] = df['cfips'].map(lastval)  \n",
    "    \n",
    "    df.loc[df['lastactive']<=ACT_THR, 'pred'] = df.loc[df['lastactive']<=ACT_THR, 'lastval']\n",
    "    df.loc[df['cfips'].isin(values_list), 'pred'] = df.loc[df['cfips'].isin(values_list), 'lastval']\n",
    "    \n",
    "    raw.loc[raw.dcount==(TS+1), 'ypred'] = df['pred'].values\n",
    "    raw.loc[raw.dcount==(TS+1), 'ypred_last'] = df['lastval'].values\n",
    "    \n",
    "    print('Last Value SMAPE:', smape(df['microbusiness_density'], df['lastval']) )\n",
    "    print('SMAPE:', smape(df['microbusiness_density'], df['pred']))\n",
    "    print()\n",
    "\n",
    "ind = (raw.dcount > MONTH_1)&(raw.dcount <= MONTH_last)\n",
    "\n",
    "print('SMAPE:', smape( raw.loc[ind, 'microbusiness_density'],  raw.loc[ind, 'ypred']))\n",
    "print('Last Value SMAPE:', smape( raw.loc[ind, 'microbusiness_density'],  raw.loc[ind, 'ypred_last']))"
   ]
  },
  {
   "cell_type": "code",
   "execution_count": 16,
   "id": "399a6762",
   "metadata": {
    "execution": {
     "iopub.execute_input": "2023-03-12T07:09:14.143358Z",
     "iopub.status.busy": "2023-03-12T07:09:14.142934Z",
     "iopub.status.idle": "2023-03-12T07:09:14.161026Z",
     "shell.execute_reply": "2023-03-12T07:09:14.160150Z"
    },
    "papermill": {
     "duration": 0.032002,
     "end_time": "2023-03-12T07:09:14.163492",
     "exception": false,
     "start_time": "2023-03-12T07:09:14.131490",
     "status": "completed"
    },
    "tags": []
   },
   "outputs": [
    {
     "data": {
      "text/html": [
       "<div>\n",
       "<style scoped>\n",
       "    .dataframe tbody tr th:only-of-type {\n",
       "        vertical-align: middle;\n",
       "    }\n",
       "\n",
       "    .dataframe tbody tr th {\n",
       "        vertical-align: top;\n",
       "    }\n",
       "\n",
       "    .dataframe thead th {\n",
       "        text-align: right;\n",
       "    }\n",
       "</style>\n",
       "<table border=\"1\" class=\"dataframe\">\n",
       "  <thead>\n",
       "    <tr style=\"text-align: right;\">\n",
       "      <th></th>\n",
       "      <th>index</th>\n",
       "      <th>row_id</th>\n",
       "      <th>cfips</th>\n",
       "      <th>county</th>\n",
       "      <th>state</th>\n",
       "      <th>first_day_of_month</th>\n",
       "      <th>microbusiness_density</th>\n",
       "      <th>active</th>\n",
       "      <th>istest</th>\n",
       "      <th>lng</th>\n",
       "      <th>...</th>\n",
       "      <th>RNETMIG2021</th>\n",
       "      <th>rot_15_x</th>\n",
       "      <th>rot_15_y</th>\n",
       "      <th>rot_30_x</th>\n",
       "      <th>rot_30_y</th>\n",
       "      <th>rot_45_x</th>\n",
       "      <th>rot_45_y</th>\n",
       "      <th>ypred_last</th>\n",
       "      <th>ypred</th>\n",
       "      <th>k</th>\n",
       "    </tr>\n",
       "  </thead>\n",
       "  <tbody>\n",
       "  </tbody>\n",
       "</table>\n",
       "<p>0 rows × 110 columns</p>\n",
       "</div>"
      ],
      "text/plain": [
       "Empty DataFrame\n",
       "Columns: [index, row_id, cfips, county, state, first_day_of_month, microbusiness_density, active, istest, lng, lat, state_i1, county_i1, dcount, county_i, state_i, scale, mbd_lag_1, dif, target, lastactive, act_lag_1, mbd_lag_2, act_lag_2, mbd_lag_3, act_lag_3, mbd_lag_4, act_lag_4, mbd_lag_5, act_lag_5, mbd_lag_6, act_lag_6, mbd_lag_7, act_lag_7, mbd_lag_8, act_lag_8, mbd_rollmea2_1, mbd_rollmea4_1, mbd_rollmea6_1, mbd_rollmea8_1, mbd_rollmea10_1, pct_bb_2017, pct_bb_2018, pct_bb_2019, pct_bb_2020, pct_bb_2021, pct_college_2017, pct_college_2018, pct_college_2019, pct_college_2020, pct_college_2021, pct_foreign_born_2017, pct_foreign_born_2018, pct_foreign_born_2019, pct_foreign_born_2020, pct_foreign_born_2021, pct_it_workers_2017, pct_it_workers_2018, pct_it_workers_2019, pct_it_workers_2020, pct_it_workers_2021, median_hh_inc_2017, median_hh_inc_2018, median_hh_inc_2019, median_hh_inc_2020, median_hh_inc_2021, SUMLEV, REGION, DIVISION, STATE, COUNTY, STNAME, CTYNAME, ESTIMATESBASE2020, POPESTIMATE2020, POPESTIMATE2021, NPOPCHG2020, NPOPCHG2021, BIRTHS2020, BIRTHS2021, DEATHS2020, DEATHS2021, NATURALCHG2020, NATURALCHG2021, INTERNATIONALMIG2020, INTERNATIONALMIG2021, DOMESTICMIG2020, DOMESTICMIG2021, NETMIG2020, NETMIG2021, RESIDUAL2020, RESIDUAL2021, GQESTIMATESBASE2020, GQESTIMATES2020, GQESTIMATES2021, RBIRTH2021, RDEATH2021, RNATURALCHG2021, RINTERNATIONALMIG2021, RDOMESTICMIG2021, ...]\n",
       "Index: []\n",
       "\n",
       "[0 rows x 110 columns]"
      ]
     },
     "execution_count": 16,
     "metadata": {},
     "output_type": "execute_result"
    }
   ],
   "source": [
    "raw[raw['microbusiness_density'].isnull()]"
   ]
  },
  {
   "cell_type": "code",
   "execution_count": 17,
   "id": "62924304",
   "metadata": {
    "execution": {
     "iopub.execute_input": "2023-03-12T07:09:14.185657Z",
     "iopub.status.busy": "2023-03-12T07:09:14.185178Z",
     "iopub.status.idle": "2023-03-12T07:16:31.810146Z",
     "shell.execute_reply": "2023-03-12T07:16:31.809081Z"
    },
    "papermill": {
     "duration": 437.639196,
     "end_time": "2023-03-12T07:16:31.813016",
     "exception": false,
     "start_time": "2023-03-12T07:09:14.173820",
     "status": "completed"
    },
    "tags": []
   },
   "outputs": [
    {
     "name": "stdout",
     "output_type": "stream",
     "text": [
      "40\n"
     ]
    },
    {
     "name": "stderr",
     "output_type": "stream",
     "text": [
      "/opt/conda/lib/python3.7/site-packages/lightgbm/engine.py:177: UserWarning: Found `n_iter` in params. Will use it instead of argument\n",
      "  _log_warning(f\"Found `{alias}` in params. Will use it instead of argument\")\n"
     ]
    },
    {
     "name": "stdout",
     "output_type": "stream",
     "text": [
      "[LightGBM] [Warning] lambda_l2 is set=0.5, reg_lambda=0.0 will be ignored. Current value: lambda_l2=0.5\n",
      "[LightGBM] [Warning] min_data_in_leaf is set=213, min_child_samples=20 will be ignored. Current value: min_data_in_leaf=213\n",
      "[LightGBM] [Warning] seed is set=42, random_state=42 will be ignored. Current value: seed=42\n",
      "[LightGBM] [Warning] num_iterations is set=300, n_iter=300 will be ignored. Current value: num_iterations=300\n"
     ]
    }
   ],
   "source": [
    "TS = 40\n",
    "print(TS)\n",
    "\n",
    "model0 = get_model()\n",
    "\n",
    "train_indices = (raw.istest==0) & (raw.dcount  < TS) & (raw.dcount >= 19) & (raw.lastactive>ACT_THR) & (~raw['cfips'].isin(values_list))\n",
    "valid_indices = (raw.dcount == TS)\n",
    "\n",
    "model0.fit(\n",
    "        raw.loc[train_indices, features],\n",
    "        raw.loc[train_indices, 'target'].clip(-0.002, 0.006))\n",
    "    \n",
    "model1.fit(\n",
    "    raw.loc[train_indices, features],\n",
    "    raw.loc[train_indices, 'target'].clip(-0.002, 0.006))\n",
    "\n",
    "model2.fit(\n",
    "    raw.loc[train_indices, features],\n",
    "    raw.loc[train_indices, 'target'].clip(-0.002, 0.006))\n",
    "\n",
    "\n",
    "tr_pred0 = model0.predict(raw.loc[train_indices, features])\n",
    "tr_pred1 = model1.predict(raw.loc[train_indices, features])\n",
    "tr_pred2 = model2.predict(raw.loc[train_indices, features])\n",
    "train_preds = np.column_stack((tr_pred0, tr_pred1, tr_pred2))\n",
    "\n",
    "meta_model = get_model() \n",
    "meta_model.fit(train_preds, raw.loc[train_indices, 'target'].clip(-0.002, 0.006))\n",
    "\n",
    "val_preds0 = model0.predict(raw.loc[valid_indices, features])\n",
    "val_preds1 = model1.predict(raw.loc[valid_indices, features])\n",
    "val_preds2 = model2.predict(raw.loc[valid_indices, features])\n",
    "valid_preds = np.column_stack((val_preds0, val_preds1, val_preds2))\n",
    "\n",
    "ypred = meta_model.predict(valid_preds)\n",
    "\n",
    "# ypred = model0.predict(raw.loc[valid_indices, features])\n",
    "raw.loc[valid_indices, 'k'] = ypred + 1.\n",
    "raw.loc[valid_indices,'k'] = raw.loc[valid_indices,'k'] * raw.loc[valid_indices,'microbusiness_density']\n",
    "\n",
    "# Validate\n",
    "lastval = raw.loc[raw.dcount==TS, ['cfips', 'microbusiness_density']].set_index('cfips').to_dict()['microbusiness_density']\n",
    "dt = raw.loc[raw.dcount==TS, ['cfips', 'k']].set_index('cfips').to_dict()['k']"
   ]
  },
  {
   "cell_type": "code",
   "execution_count": 18,
   "id": "34ac29d1",
   "metadata": {
    "execution": {
     "iopub.execute_input": "2023-03-12T07:16:31.835014Z",
     "iopub.status.busy": "2023-03-12T07:16:31.834621Z",
     "iopub.status.idle": "2023-03-12T07:16:31.847700Z",
     "shell.execute_reply": "2023-03-12T07:16:31.846603Z"
    },
    "papermill": {
     "duration": 0.026736,
     "end_time": "2023-03-12T07:16:31.850226",
     "exception": false,
     "start_time": "2023-03-12T07:16:31.823490",
     "status": "completed"
    },
    "tags": []
   },
   "outputs": [],
   "source": [
    "df = raw.loc[raw.dcount==(TS+1), ['cfips', 'microbusiness_density', 'state', 'lastactive', 'mbd_lag_1']].reset_index(drop=True)"
   ]
  },
  {
   "cell_type": "code",
   "execution_count": 19,
   "id": "aba884ec",
   "metadata": {
    "execution": {
     "iopub.execute_input": "2023-03-12T07:16:31.873399Z",
     "iopub.status.busy": "2023-03-12T07:16:31.872553Z",
     "iopub.status.idle": "2023-03-12T07:16:31.890775Z",
     "shell.execute_reply": "2023-03-12T07:16:31.889505Z"
    },
    "papermill": {
     "duration": 0.032638,
     "end_time": "2023-03-12T07:16:31.893379",
     "exception": false,
     "start_time": "2023-03-12T07:16:31.860741",
     "status": "completed"
    },
    "tags": []
   },
   "outputs": [],
   "source": [
    "df['pred'] = df['cfips'].map(dt)\n",
    "df['lastval'] = df['cfips'].map(lastval)\n",
    "\n",
    "df.loc[df['lastactive']<=ACT_THR, 'pred'] = df.loc[df['lastactive']<=ACT_THR, 'lastval']\n",
    "df.loc[df['cfips'].isin(values_list), 'pred'] = df.loc[df['cfips'].isin(values_list), 'lastval']\n",
    "\n",
    "raw.loc[raw.dcount==(TS+1), 'ypred'] = df['pred'].values\n",
    "raw.loc[raw.dcount==(TS+1), 'ypred_last'] = df['lastval'].values"
   ]
  },
  {
   "cell_type": "code",
   "execution_count": 20,
   "id": "a893aa14",
   "metadata": {
    "execution": {
     "iopub.execute_input": "2023-03-12T07:16:31.916188Z",
     "iopub.status.busy": "2023-03-12T07:16:31.915368Z",
     "iopub.status.idle": "2023-03-12T07:16:31.926689Z",
     "shell.execute_reply": "2023-03-12T07:16:31.925504Z"
    },
    "papermill": {
     "duration": 0.025552,
     "end_time": "2023-03-12T07:16:31.929301",
     "exception": false,
     "start_time": "2023-03-12T07:16:31.903749",
     "status": "completed"
    },
    "tags": []
   },
   "outputs": [],
   "source": [
    "mask = (raw.lastactive > 150) & (raw.dcount==(TS+1))\n",
    "k = 0.1\n",
    "raw.loc[mask, 'ypred'] = k * 1.005 * raw.loc[mask, 'ypred_last'] + (1-k) * raw.loc[mask, 'ypred'] "
   ]
  },
  {
   "cell_type": "code",
   "execution_count": 22,
   "id": "e0c675a9",
   "metadata": {
    "execution": {
     "iopub.execute_input": "2023-03-12T07:16:31.984449Z",
     "iopub.status.busy": "2023-03-12T07:16:31.984066Z",
     "iopub.status.idle": "2023-03-12T07:16:32.651295Z",
     "shell.execute_reply": "2023-03-12T07:16:32.650141Z"
    },
    "papermill": {
     "duration": 0.681279,
     "end_time": "2023-03-12T07:16:32.653881",
     "exception": false,
     "start_time": "2023-03-12T07:16:31.972602",
     "status": "completed"
    },
    "tags": []
   },
   "outputs": [],
   "source": [
    "COLS = ['GEO_ID','NAME','S0101_C01_026E']\n",
    "df2020 = pd.read_csv('./12/ACSST5Y2020.S0101-Data.csv',usecols=COLS, dtype = 'object')\n",
    "df2021 = pd.read_csv('./12/ACSST5Y2021.S0101-Data.csv',usecols=COLS, dtype = 'object')\n",
    "\n",
    "df2020 = df2020.iloc[1:]\n",
    "df2020 = df2020.astype({'S0101_C01_026E':'int'})\n",
    "\n",
    "df2021 = df2021.iloc[1:]\n",
    "df2021 = df2021.astype({'S0101_C01_026E':'int'})\n",
    "\n",
    "df2020['cfips'] = df2020.GEO_ID.apply(lambda x: int(x.split('US')[-1]))\n",
    "adult2020 = df2020.set_index('cfips').S0101_C01_026E.to_dict()\n",
    "\n",
    "df2021['cfips'] = df2021.GEO_ID.apply(lambda x: int(x.split('US')[-1]))\n",
    "adult2021 = df2021.set_index('cfips').S0101_C01_026E.to_dict()\n",
    "\n",
    "test['adult2020'] = test.cfips.map(adult2020)\n",
    "test['adult2021'] = test.cfips.map(adult2021)"
   ]
  },
  {
   "cell_type": "code",
   "execution_count": 23,
   "id": "45272e43",
   "metadata": {
    "execution": {
     "iopub.execute_input": "2023-03-12T07:16:32.676074Z",
     "iopub.status.busy": "2023-03-12T07:16:32.675690Z",
     "iopub.status.idle": "2023-03-12T07:16:32.885789Z",
     "shell.execute_reply": "2023-03-12T07:16:32.884490Z"
    },
    "papermill": {
     "duration": 0.224417,
     "end_time": "2023-03-12T07:16:32.888463",
     "exception": false,
     "start_time": "2023-03-12T07:16:32.664046",
     "status": "completed"
    },
    "tags": []
   },
   "outputs": [],
   "source": [
    "raw = raw.join(df2020, on='cfips')\n",
    "maska = (raw[\"first_day_of_month\"]=='2023-01-01')\n",
    "raw.loc[maska, 'microbusiness_density'] = raw.loc[maska, 'ypred'] * raw.loc[maska, 'mnoshitel']\n",
    "raw.drop(columns = 'mnoshitel' , inplace = True)"
   ]
  },
  {
   "cell_type": "code",
   "execution_count": 24,
   "id": "d8064d3b",
   "metadata": {
    "execution": {
     "iopub.execute_input": "2023-03-12T07:16:32.912425Z",
     "iopub.status.busy": "2023-03-12T07:16:32.912019Z",
     "iopub.status.idle": "2023-03-12T07:16:32.991133Z",
     "shell.execute_reply": "2023-03-12T07:16:32.989923Z"
    },
    "papermill": {
     "duration": 0.093983,
     "end_time": "2023-03-12T07:16:32.993774",
     "exception": false,
     "start_time": "2023-03-12T07:16:32.899791",
     "status": "completed"
    },
    "tags": []
   },
   "outputs": [],
   "source": [
    "test = raw[raw.first_day_of_month >= '2022-11-01'].copy()\n",
    "test = test[['row_id', 'cfips', 'microbusiness_density']]\n",
    "test = test[['row_id', 'microbusiness_density']]\n",
    "test.to_csv('submission.csv', index=False)"
   ]
  },
  {
   "cell_type": "code",
   "execution_count": 25,
   "id": "b727b7ce",
   "metadata": {
    "execution": {
     "iopub.execute_input": "2023-03-12T07:16:33.016389Z",
     "iopub.status.busy": "2023-03-12T07:16:33.015969Z",
     "iopub.status.idle": "2023-03-12T07:16:38.392919Z",
     "shell.execute_reply": "2023-03-12T07:16:38.391678Z"
    },
    "papermill": {
     "duration": 5.391533,
     "end_time": "2023-03-12T07:16:38.395662",
     "exception": false,
     "start_time": "2023-03-12T07:16:33.004129",
     "status": "completed"
    },
    "tags": []
   },
   "outputs": [
    {
     "data": {
      "text/html": [
       "<div>\n",
       "<style scoped>\n",
       "    .dataframe tbody tr th:only-of-type {\n",
       "        vertical-align: middle;\n",
       "    }\n",
       "\n",
       "    .dataframe tbody tr th {\n",
       "        vertical-align: top;\n",
       "    }\n",
       "\n",
       "    .dataframe thead th {\n",
       "        text-align: right;\n",
       "    }\n",
       "</style>\n",
       "<table border=\"1\" class=\"dataframe\">\n",
       "  <thead>\n",
       "    <tr style=\"text-align: right;\">\n",
       "      <th></th>\n",
       "      <th>row_id</th>\n",
       "      <th>microbusiness_density</th>\n",
       "    </tr>\n",
       "  </thead>\n",
       "  <tbody>\n",
       "    <tr>\n",
       "      <th>39</th>\n",
       "      <td>1001_2022-11-01</td>\n",
       "      <td>3.405280</td>\n",
       "    </tr>\n",
       "    <tr>\n",
       "      <th>40</th>\n",
       "      <td>1001_2022-12-01</td>\n",
       "      <td>3.423634</td>\n",
       "    </tr>\n",
       "    <tr>\n",
       "      <th>41</th>\n",
       "      <td>1001_2023-01-01</td>\n",
       "      <td>3.336825</td>\n",
       "    </tr>\n",
       "    <tr>\n",
       "      <th>42</th>\n",
       "      <td>1001_2023-02-01</td>\n",
       "      <td>1.167540</td>\n",
       "    </tr>\n",
       "    <tr>\n",
       "      <th>43</th>\n",
       "      <td>1001_2023-03-01</td>\n",
       "      <td>1.167540</td>\n",
       "    </tr>\n",
       "  </tbody>\n",
       "</table>\n",
       "</div>"
      ],
      "text/plain": [
       "             row_id  microbusiness_density\n",
       "39  1001_2022-11-01               3.405280\n",
       "40  1001_2022-12-01               3.423634\n",
       "41  1001_2023-01-01               3.336825\n",
       "42  1001_2023-02-01               1.167540\n",
       "43  1001_2023-03-01               1.167540"
      ]
     },
     "execution_count": 25,
     "metadata": {},
     "output_type": "execute_result"
    }
   ],
   "source": [
    "sub = pd.read_csv(\"/kaggle/input/godaddy-lb-13803/submission.csv\")\n",
    "for i, row in sub.iterrows():\n",
    "    test.iat[i,1] = (\n",
    "        0.65*test.iat[i,1] +\n",
    "        0.35*row[\"microbusiness_density\"]\n",
    "    )\n",
    "test.to_csv('submission.csv', index=False)\n",
    "test.head()"
   ]
  }
 ],
 "metadata": {
  "kernelspec": {
   "display_name": "Python 3 (ipykernel)",
   "language": "python",
   "name": "python3"
  },
  "language_info": {
   "codemirror_mode": {
    "name": "ipython",
    "version": 3
   },
   "file_extension": ".py",
   "mimetype": "text/x-python",
   "name": "python",
   "nbconvert_exporter": "python",
   "pygments_lexer": "ipython3",
   "version": "3.7.15"
  },
  "papermill": {
   "default_parameters": {},
   "duration": 782.200644,
   "end_time": "2023-03-12T07:16:39.329772",
   "environment_variables": {},
   "exception": null,
   "input_path": "__notebook__.ipynb",
   "output_path": "__notebook__.ipynb",
   "parameters": {},
   "start_time": "2023-03-12T07:03:37.129128",
   "version": "2.3.4"
  },
  "widgets": {
   "application/vnd.jupyter.widget-state+json": {
    "state": {
     "1b604c426f024a3daf0eb15d65616b40": {
      "model_module": "@jupyter-widgets/controls",
      "model_module_version": "1.5.0",
      "model_name": "HTMLModel",
      "state": {
       "_dom_classes": [],
       "_model_module": "@jupyter-widgets/controls",
       "_model_module_version": "1.5.0",
       "_model_name": "HTMLModel",
       "_view_count": null,
       "_view_module": "@jupyter-widgets/controls",
       "_view_module_version": "1.5.0",
       "_view_name": "HTMLView",
       "description": "",
       "description_tooltip": null,
       "layout": "IPY_MODEL_55ac65d6aea842e38e49bb9539cfe418",
       "placeholder": "​",
       "style": "IPY_MODEL_58f605d26154400bbfc076c81f447814",
       "value": " 3135/3135 [00:07&lt;00:00, 414.31it/s]"
      }
     },
     "55ac65d6aea842e38e49bb9539cfe418": {
      "model_module": "@jupyter-widgets/base",
      "model_module_version": "1.2.0",
      "model_name": "LayoutModel",
      "state": {
       "_model_module": "@jupyter-widgets/base",
       "_model_module_version": "1.2.0",
       "_model_name": "LayoutModel",
       "_view_count": null,
       "_view_module": "@jupyter-widgets/base",
       "_view_module_version": "1.2.0",
       "_view_name": "LayoutView",
       "align_content": null,
       "align_items": null,
       "align_self": null,
       "border": null,
       "bottom": null,
       "display": null,
       "flex": null,
       "flex_flow": null,
       "grid_area": null,
       "grid_auto_columns": null,
       "grid_auto_flow": null,
       "grid_auto_rows": null,
       "grid_column": null,
       "grid_gap": null,
       "grid_row": null,
       "grid_template_areas": null,
       "grid_template_columns": null,
       "grid_template_rows": null,
       "height": null,
       "justify_content": null,
       "justify_items": null,
       "left": null,
       "margin": null,
       "max_height": null,
       "max_width": null,
       "min_height": null,
       "min_width": null,
       "object_fit": null,
       "object_position": null,
       "order": null,
       "overflow": null,
       "overflow_x": null,
       "overflow_y": null,
       "padding": null,
       "right": null,
       "top": null,
       "visibility": null,
       "width": null
      }
     },
     "58f605d26154400bbfc076c81f447814": {
      "model_module": "@jupyter-widgets/controls",
      "model_module_version": "1.5.0",
      "model_name": "DescriptionStyleModel",
      "state": {
       "_model_module": "@jupyter-widgets/controls",
       "_model_module_version": "1.5.0",
       "_model_name": "DescriptionStyleModel",
       "_view_count": null,
       "_view_module": "@jupyter-widgets/base",
       "_view_module_version": "1.2.0",
       "_view_name": "StyleView",
       "description_width": ""
      }
     },
     "5a15721ca0044171b76e5dc6c095ce33": {
      "model_module": "@jupyter-widgets/controls",
      "model_module_version": "1.5.0",
      "model_name": "ProgressStyleModel",
      "state": {
       "_model_module": "@jupyter-widgets/controls",
       "_model_module_version": "1.5.0",
       "_model_name": "ProgressStyleModel",
       "_view_count": null,
       "_view_module": "@jupyter-widgets/base",
       "_view_module_version": "1.2.0",
       "_view_name": "StyleView",
       "bar_color": null,
       "description_width": ""
      }
     },
     "785574365c5a408cb52e7d7710719648": {
      "model_module": "@jupyter-widgets/controls",
      "model_module_version": "1.5.0",
      "model_name": "DescriptionStyleModel",
      "state": {
       "_model_module": "@jupyter-widgets/controls",
       "_model_module_version": "1.5.0",
       "_model_name": "DescriptionStyleModel",
       "_view_count": null,
       "_view_module": "@jupyter-widgets/base",
       "_view_module_version": "1.2.0",
       "_view_name": "StyleView",
       "description_width": ""
      }
     },
     "88d7ad3c7c0d43feb8ba08fc5200a591": {
      "model_module": "@jupyter-widgets/base",
      "model_module_version": "1.2.0",
      "model_name": "LayoutModel",
      "state": {
       "_model_module": "@jupyter-widgets/base",
       "_model_module_version": "1.2.0",
       "_model_name": "LayoutModel",
       "_view_count": null,
       "_view_module": "@jupyter-widgets/base",
       "_view_module_version": "1.2.0",
       "_view_name": "LayoutView",
       "align_content": null,
       "align_items": null,
       "align_self": null,
       "border": null,
       "bottom": null,
       "display": null,
       "flex": null,
       "flex_flow": null,
       "grid_area": null,
       "grid_auto_columns": null,
       "grid_auto_flow": null,
       "grid_auto_rows": null,
       "grid_column": null,
       "grid_gap": null,
       "grid_row": null,
       "grid_template_areas": null,
       "grid_template_columns": null,
       "grid_template_rows": null,
       "height": null,
       "justify_content": null,
       "justify_items": null,
       "left": null,
       "margin": null,
       "max_height": null,
       "max_width": null,
       "min_height": null,
       "min_width": null,
       "object_fit": null,
       "object_position": null,
       "order": null,
       "overflow": null,
       "overflow_x": null,
       "overflow_y": null,
       "padding": null,
       "right": null,
       "top": null,
       "visibility": null,
       "width": null
      }
     },
     "cb461f2ed76044cd8abe2fe8afd7d9ed": {
      "model_module": "@jupyter-widgets/base",
      "model_module_version": "1.2.0",
      "model_name": "LayoutModel",
      "state": {
       "_model_module": "@jupyter-widgets/base",
       "_model_module_version": "1.2.0",
       "_model_name": "LayoutModel",
       "_view_count": null,
       "_view_module": "@jupyter-widgets/base",
       "_view_module_version": "1.2.0",
       "_view_name": "LayoutView",
       "align_content": null,
       "align_items": null,
       "align_self": null,
       "border": null,
       "bottom": null,
       "display": null,
       "flex": null,
       "flex_flow": null,
       "grid_area": null,
       "grid_auto_columns": null,
       "grid_auto_flow": null,
       "grid_auto_rows": null,
       "grid_column": null,
       "grid_gap": null,
       "grid_row": null,
       "grid_template_areas": null,
       "grid_template_columns": null,
       "grid_template_rows": null,
       "height": null,
       "justify_content": null,
       "justify_items": null,
       "left": null,
       "margin": null,
       "max_height": null,
       "max_width": null,
       "min_height": null,
       "min_width": null,
       "object_fit": null,
       "object_position": null,
       "order": null,
       "overflow": null,
       "overflow_x": null,
       "overflow_y": null,
       "padding": null,
       "right": null,
       "top": null,
       "visibility": null,
       "width": null
      }
     },
     "d0d0ebf2266f4d81a0616febea616426": {
      "model_module": "@jupyter-widgets/controls",
      "model_module_version": "1.5.0",
      "model_name": "HBoxModel",
      "state": {
       "_dom_classes": [],
       "_model_module": "@jupyter-widgets/controls",
       "_model_module_version": "1.5.0",
       "_model_name": "HBoxModel",
       "_view_count": null,
       "_view_module": "@jupyter-widgets/controls",
       "_view_module_version": "1.5.0",
       "_view_name": "HBoxView",
       "box_style": "",
       "children": [
        "IPY_MODEL_f882c9acc4b6438099de4e6bdaa982b6",
        "IPY_MODEL_dcc873411e464de294d658ca8eceb11b",
        "IPY_MODEL_1b604c426f024a3daf0eb15d65616b40"
       ],
       "layout": "IPY_MODEL_d6cbc98a018044a78cffb054505c42f9"
      }
     },
     "d6cbc98a018044a78cffb054505c42f9": {
      "model_module": "@jupyter-widgets/base",
      "model_module_version": "1.2.0",
      "model_name": "LayoutModel",
      "state": {
       "_model_module": "@jupyter-widgets/base",
       "_model_module_version": "1.2.0",
       "_model_name": "LayoutModel",
       "_view_count": null,
       "_view_module": "@jupyter-widgets/base",
       "_view_module_version": "1.2.0",
       "_view_name": "LayoutView",
       "align_content": null,
       "align_items": null,
       "align_self": null,
       "border": null,
       "bottom": null,
       "display": null,
       "flex": null,
       "flex_flow": null,
       "grid_area": null,
       "grid_auto_columns": null,
       "grid_auto_flow": null,
       "grid_auto_rows": null,
       "grid_column": null,
       "grid_gap": null,
       "grid_row": null,
       "grid_template_areas": null,
       "grid_template_columns": null,
       "grid_template_rows": null,
       "height": null,
       "justify_content": null,
       "justify_items": null,
       "left": null,
       "margin": null,
       "max_height": null,
       "max_width": null,
       "min_height": null,
       "min_width": null,
       "object_fit": null,
       "object_position": null,
       "order": null,
       "overflow": null,
       "overflow_x": null,
       "overflow_y": null,
       "padding": null,
       "right": null,
       "top": null,
       "visibility": null,
       "width": null
      }
     },
     "dcc873411e464de294d658ca8eceb11b": {
      "model_module": "@jupyter-widgets/controls",
      "model_module_version": "1.5.0",
      "model_name": "FloatProgressModel",
      "state": {
       "_dom_classes": [],
       "_model_module": "@jupyter-widgets/controls",
       "_model_module_version": "1.5.0",
       "_model_name": "FloatProgressModel",
       "_view_count": null,
       "_view_module": "@jupyter-widgets/controls",
       "_view_module_version": "1.5.0",
       "_view_name": "ProgressView",
       "bar_style": "success",
       "description": "",
       "description_tooltip": null,
       "layout": "IPY_MODEL_cb461f2ed76044cd8abe2fe8afd7d9ed",
       "max": 3135,
       "min": 0,
       "orientation": "horizontal",
       "style": "IPY_MODEL_5a15721ca0044171b76e5dc6c095ce33",
       "value": 3135
      }
     },
     "f882c9acc4b6438099de4e6bdaa982b6": {
      "model_module": "@jupyter-widgets/controls",
      "model_module_version": "1.5.0",
      "model_name": "HTMLModel",
      "state": {
       "_dom_classes": [],
       "_model_module": "@jupyter-widgets/controls",
       "_model_module_version": "1.5.0",
       "_model_name": "HTMLModel",
       "_view_count": null,
       "_view_module": "@jupyter-widgets/controls",
       "_view_module_version": "1.5.0",
       "_view_name": "HTMLView",
       "description": "",
       "description_tooltip": null,
       "layout": "IPY_MODEL_88d7ad3c7c0d43feb8ba08fc5200a591",
       "placeholder": "​",
       "style": "IPY_MODEL_785574365c5a408cb52e7d7710719648",
       "value": "100%"
      }
     }
    },
    "version_major": 2,
    "version_minor": 0
   }
  }
 },
 "nbformat": 4,
 "nbformat_minor": 5
}
