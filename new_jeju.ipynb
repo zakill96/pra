{
 "cells": [
  {
   "cell_type": "code",
   "execution_count": 1,
   "id": "fe8e0066",
   "metadata": {},
   "outputs": [],
   "source": [
    "import pandas as pd\n",
    "import numpy as np\n",
    "import requests\n",
    "import json\n",
    "from pandas import json_normalize\n",
    "import gc\n",
    "\n",
    "from tqdm import tqdm\n",
    "\n",
    "from sklearn.preprocessing import LabelEncoder\n",
    "from datetime import datetime\n",
    "import xgboost as xgb"
   ]
  },
  {
   "cell_type": "code",
   "execution_count": 2,
   "id": "ebff6b8e",
   "metadata": {},
   "outputs": [],
   "source": [
    "today = datetime.today().strftime('%Y%m%d')\n",
    "year_list =[2020, 2021, 2022]\n",
    "df_ho =pd.DataFrame([])\n",
    "for i in year_list:\n",
    "    today_year = i\n",
    "\n",
    "    key = 'UhnjyvmWEq5SH4yCqPylCPQSp4NdA524up%2FM1CrsUf3143Vmj3Rwx7PGHxq5YZY4mFHNHQ%2F0ixGwapRFApPsaw%3D%3D'\n",
    "    url = 'http://apis.data.go.kr/B090041/openapi/service/SpcdeInfoService/getRestDeInfo?_type=json&numOfRows=50&solYear=' + str(today_year) + '&ServiceKey=' + str(key)\n",
    "    response = requests.get(url)\n",
    "    if response.status_code == 200:\n",
    "        json_ob = json.loads(response.text)\n",
    "        holidays_data = json_ob['response']['body']['items']['item']\n",
    "        dataframe = json_normalize(holidays_data)\n",
    "    df_ho = pd.concat([df_ho, dataframe])\n",
    "df_ho=df_ho.reset_index()\n",
    "df_ho['locdate']=df_ho['locdate'].reset_index(drop=True)"
   ]
  },
  {
   "cell_type": "code",
   "execution_count": 3,
   "id": "95a433c4",
   "metadata": {},
   "outputs": [],
   "source": [
    "def csv_to_parquet(csv_path, save_name):\n",
    "    df = pd.read_csv(csv_path)\n",
    "    df.to_parquet(f'./{save_name}.parquet')\n",
    "    del df\n",
    "    gc.collect()\n",
    "    print(save_name, 'Done.')"
   ]
  },
  {
   "cell_type": "code",
   "execution_count": 4,
   "id": "4efbc518",
   "metadata": {},
   "outputs": [
    {
     "name": "stdout",
     "output_type": "stream",
     "text": [
      "train Done.\n",
      "test Done.\n"
     ]
    }
   ],
   "source": [
    "csv_to_parquet('C:/Users/82108/JejuRoad/JejuRoadData/open/train.csv', 'train')\n",
    "csv_to_parquet('C:/Users/82108/JejuRoad/JejuRoadData/open/test.csv', 'test')"
   ]
  },
  {
   "cell_type": "code",
   "execution_count": 5,
   "id": "f4505675",
   "metadata": {},
   "outputs": [],
   "source": [
    "train = pd.read_parquet('./train.parquet')\n",
    "test = pd.read_parquet('./test.parquet')"
   ]
  },
  {
   "cell_type": "code",
   "execution_count": 6,
   "id": "79e9d8f0",
   "metadata": {},
   "outputs": [],
   "source": [
    "str_col = ['start_turn_restricted','end_turn_restricted']\n",
    "for i in str_col:\n",
    "    le = LabelEncoder()\n",
    "    le=le.fit(train[i])\n",
    "    train[i]=le.transform(train[i])\n",
    "    \n",
    "    for label in np.unique(test[i]):\n",
    "        if label not in le.classes_: \n",
    "            le.classes_ = np.append(le.classes_, label)\n",
    "    test[i]=le.transform(test[i])"
   ]
  },
  {
   "cell_type": "code",
   "execution_count": 7,
   "id": "e8361473",
   "metadata": {},
   "outputs": [
    {
     "name": "stdout",
     "output_type": "stream",
     "text": [
      "(4701217, 8)\n",
      "(4701217,)\n",
      "(291241, 8)\n"
     ]
    }
   ],
   "source": [
    "y = train['target'] \n",
    "\n",
    "x = train.drop(['id','target' , 'end_node_name','vehicle_restricted','road_type','weight_restricted','height_restricted','multi_linked','road_rating','connect_code',\"start_node_name\",'start_latitude','start_longitude','end_latitude','end_longitude'], axis=1)\n",
    "\n",
    "test = test.drop(['id' , 'end_node_name','vehicle_restricted','road_type','weight_restricted','height_restricted','multi_linked','road_rating','connect_code',\"start_node_name\",'start_latitude','start_longitude','end_latitude','end_longitude'], axis=1)\n",
    "\n",
    "print(x.shape)\n",
    "print(y.shape)\n",
    "print(test.shape)"
   ]
  },
  {
   "cell_type": "code",
   "execution_count": 8,
   "id": "94f89aa8",
   "metadata": {},
   "outputs": [],
   "source": [
    "for i in (df_ho['locdate']):\n",
    "    x.loc[(x['base_date'] == i),'base_date'] = 1\n",
    "x.loc[(x['base_date'] > 1),'base_date'] = 0\n",
    "\n",
    "for i in (df_ho['locdate']):\n",
    "    test.loc[(test['base_date'] == i),'base_date'] = 1\n",
    "    \n",
    "test.loc[(test['base_date'] > 1),'base_date'] = 0"
   ]
  },
  {
   "cell_type": "code",
   "execution_count": 9,
   "id": "de771634",
   "metadata": {},
   "outputs": [],
   "source": [
    "col_list = ['base_hour','lane_count','day_of_week','maximum_speed_limit','road_name']\n",
    "for i in col_list:\n",
    "    x = pd.get_dummies(x,columns = [i])\n",
    "    test = pd.get_dummies(test,columns = [i])"
   ]
  },
  {
   "cell_type": "code",
   "execution_count": 10,
   "id": "4c4d8031",
   "metadata": {},
   "outputs": [
    {
     "name": "stdout",
     "output_type": "stream",
     "text": [
      "\"base_date\",\"start_turn_restricted\",\"end_turn_restricted\",\"base_hour_0\",\"base_hour_1\",\"base_hour_2\",\"base_hour_3\",\"base_hour_4\",\"base_hour_5\",\"base_hour_6\",\"base_hour_7\",\"base_hour_8\",\"base_hour_9\",\"base_hour_10\",\"base_hour_11\",\"base_hour_12\",\"base_hour_13\",\"base_hour_14\",\"base_hour_15\",\"base_hour_16\",\"base_hour_17\",\"base_hour_18\",\"base_hour_19\",\"base_hour_20\",\"base_hour_21\",\"base_hour_22\",\"base_hour_23\",\"lane_count_1\",\"lane_count_2\",\"lane_count_3\",\"day_of_week_금\",\"day_of_week_목\",\"day_of_week_수\",\"day_of_week_월\",\"day_of_week_일\",\"day_of_week_토\",\"day_of_week_화\",\"maximum_speed_limit_30.0\",\"maximum_speed_limit_40.0\",\"maximum_speed_limit_50.0\",\"maximum_speed_limit_60.0\",\"maximum_speed_limit_70.0\",\"maximum_speed_limit_80.0\",\"road_name_-\",\"road_name_경찰로\",\"road_name_고평교\",\"road_name_관광단지1로\",\"road_name_관광단지2로\",\"road_name_관광단지로\",\"road_name_관덕로\",\"road_name_권학로\",\"road_name_남조로\",\"road_name_동문로\",\"road_name_동부관광도로\",\"road_name_동홍로\",\"road_name_번영로\",\"road_name_산서로\",\"road_name_삼무로\",\"road_name_삼봉로\",\"road_name_삼성로\",\"road_name_새서귀로\",\"road_name_서사로\",\"road_name_수영장길\",\"road_name_시민광장로\",\"road_name_시청로\",\"road_name_신광로\",\"road_name_신대로\",\"road_name_신산로\",\"road_name_아봉로\",\"road_name_애원로\",\"road_name_애조로\",\"road_name_어시천교\",\"road_name_연동로\",\"road_name_연북2교\",\"road_name_연북로\",\"road_name_연삼로\",\"road_name_외도천교\",\"road_name_일반국도11호선\",\"road_name_일반국도12호선\",\"road_name_일반국도16호선\",\"road_name_일반국도95호선\",\"road_name_일반국도99호선\",\"road_name_일주동로\",\"road_name_임항로\",\"road_name_제2거로교\",\"road_name_중문로\",\"road_name_중산간서로\",\"road_name_중앙로\",\"road_name_중정로\",\"road_name_지방도1112호선\",\"road_name_지방도1115호선\",\"road_name_지방도1116호선\",\"road_name_지방도1117호선\",\"road_name_지방도1118호선\",\"road_name_지방도1119호선\",\"road_name_지방도1120호선\",\"road_name_지방도1132호선\",\"road_name_지방도1136호선\",\"road_name_지방도97호선\",\"road_name_첨단로\",\"road_name_태평로\",\"road_name_한천로\",\"road_name_호근로\",\"road_name_호서중앙로\","
     ]
    }
   ],
   "source": [
    "temp1=[]\n",
    "for i in (x.columns):\n",
    "    temp1.append(i)\n",
    "    print('\"{}\"'.format(i),end=\",\")"
   ]
  },
  {
   "cell_type": "code",
   "execution_count": 11,
   "id": "88052b1b",
   "metadata": {},
   "outputs": [],
   "source": [
    "temp2=[]\n",
    "for i in (test.columns):\n",
    "    temp2.append(i)\n",
    "    #print('\"{}\"'.format(i),end=\",\")"
   ]
  },
  {
   "cell_type": "code",
   "execution_count": 12,
   "id": "82fceba9",
   "metadata": {},
   "outputs": [],
   "source": [
    "s = set(temp2)\n",
    "temp3 = [x for x in temp1 if x not in s]"
   ]
  },
  {
   "cell_type": "code",
   "execution_count": 13,
   "id": "b950436d",
   "metadata": {},
   "outputs": [],
   "source": [
    "for i in temp3:\n",
    "    test[\"{}\".format(i)] = 0"
   ]
  },
  {
   "cell_type": "code",
   "execution_count": 14,
   "id": "b0525810",
   "metadata": {},
   "outputs": [],
   "source": [
    "test = test[[\"base_date\",\"start_turn_restricted\",\"end_turn_restricted\",\"base_hour_0\",\"base_hour_1\",\"base_hour_2\",\"base_hour_3\",\"base_hour_4\",\"base_hour_5\",\"base_hour_6\",\"base_hour_7\",\"base_hour_8\",\"base_hour_9\",\"base_hour_10\",\"base_hour_11\",\"base_hour_12\",\"base_hour_13\",\"base_hour_14\",\"base_hour_15\",\"base_hour_16\",\"base_hour_17\",\"base_hour_18\",\"base_hour_19\",\"base_hour_20\",\"base_hour_21\",\"base_hour_22\",\"base_hour_23\",\"lane_count_1\",\"lane_count_2\",\"lane_count_3\",\"day_of_week_금\",\"day_of_week_목\",\"day_of_week_수\",\"day_of_week_월\",\"day_of_week_일\",\"day_of_week_토\",\"day_of_week_화\",\"maximum_speed_limit_30.0\",\"maximum_speed_limit_40.0\",\"maximum_speed_limit_50.0\",\"maximum_speed_limit_60.0\",\"maximum_speed_limit_70.0\",\"maximum_speed_limit_80.0\",\"road_name_-\",\"road_name_경찰로\",\"road_name_고평교\",\"road_name_관광단지1로\",\"road_name_관광단지2로\",\"road_name_관광단지로\",\"road_name_관덕로\",\"road_name_권학로\",\"road_name_남조로\",\"road_name_동문로\",\"road_name_동부관광도로\",\"road_name_동홍로\",\"road_name_번영로\",\"road_name_산서로\",\"road_name_삼무로\",\"road_name_삼봉로\",\"road_name_삼성로\",\"road_name_새서귀로\",\"road_name_서사로\",\"road_name_수영장길\",\"road_name_시민광장로\",\"road_name_시청로\",\"road_name_신광로\",\"road_name_신대로\",\"road_name_신산로\",\"road_name_아봉로\",\"road_name_애원로\",\"road_name_애조로\",\"road_name_어시천교\",\"road_name_연동로\",\"road_name_연북2교\",\"road_name_연북로\",\"road_name_연삼로\",\"road_name_외도천교\",\"road_name_일반국도11호선\",\"road_name_일반국도12호선\",\"road_name_일반국도16호선\",\"road_name_일반국도95호선\",\"road_name_일반국도99호선\",\"road_name_일주동로\",\"road_name_임항로\",\"road_name_제2거로교\",\"road_name_중문로\",\"road_name_중산간서로\",\"road_name_중앙로\",\"road_name_중정로\",\"road_name_지방도1112호선\",\"road_name_지방도1115호선\",\"road_name_지방도1116호선\",\"road_name_지방도1117호선\",\"road_name_지방도1118호선\",\"road_name_지방도1119호선\",\"road_name_지방도1120호선\",\"road_name_지방도1132호선\",\"road_name_지방도1136호선\",\"road_name_지방도97호선\",\"road_name_첨단로\",\"road_name_태평로\",\"road_name_한천로\",\"road_name_호근로\",\"road_name_호서중앙로\"]]"
   ]
  },
  {
   "cell_type": "code",
   "execution_count": 15,
   "id": "33f4d12e",
   "metadata": {},
   "outputs": [],
   "source": [
    "x = x.to_numpy()\n",
    "y = y.to_numpy()\n",
    "test = test.to_numpy()"
   ]
  },
  {
   "cell_type": "code",
   "execution_count": 16,
   "id": "58239fa0",
   "metadata": {},
   "outputs": [],
   "source": [
    "from sklearn.model_selection import train_test_split\n",
    "x_train, x_test, y_train, y_test = train_test_split(x, y, test_size=0.2, random_state=42)"
   ]
  },
  {
   "cell_type": "code",
   "execution_count": 26,
   "id": "5c18b9c9",
   "metadata": {},
   "outputs": [],
   "source": [
    "del x, y"
   ]
  },
  {
   "cell_type": "markdown",
   "id": "790494a5",
   "metadata": {},
   "source": [
    "##### import matplotlib.pyplot as plt\n",
    "alhpa_list = [3,4,5,6,7,8,9]\n",
    "train_score = []\n",
    "test_score = []\n",
    "for i in tqdm(alhpa_list):\n",
    "    xg_reg = xgb.XGBRegressor(max_depth=i,random_state=42).fit(x_train, y_train)\n",
    "    train_score.append(xg_reg.score(x_train, y_train))\n",
    "    test_score.append(xg_reg.score(x_test, y_test))"
   ]
  },
  {
   "cell_type": "markdown",
   "id": "1d87e8da",
   "metadata": {},
   "source": [
    "##### plt.plot(np.log10(alhpa_list), train_score)\n",
    "plt.plot(np.log10(alhpa_list), test_score)\n",
    "plt.xlabel(\"alpha\")\n",
    "plt.ylabel(\"max_depth\")\n",
    "plt.show()"
   ]
  },
  {
   "cell_type": "code",
   "execution_count": 46,
   "id": "e2fc3482",
   "metadata": {},
   "outputs": [],
   "source": [
    "xg_reg = xgb.XGBRegressor(max_depth=10,random_state=42).fit(x_train, y_train)"
   ]
  },
  {
   "cell_type": "code",
   "execution_count": null,
   "id": "2c400b9b",
   "metadata": {},
   "outputs": [],
   "source": [
    "xg_reg = xgb.XGBRegressor(max_depth=12,random_state=42).fit(x, y)"
   ]
  },
  {
   "cell_type": "code",
   "execution_count": 47,
   "id": "a47e30ed",
   "metadata": {},
   "outputs": [
    {
     "name": "stdout",
     "output_type": "stream",
     "text": [
      "0.7035138433716754\n",
      "0.6987258841880919\n"
     ]
    }
   ],
   "source": [
    "print(xg_reg.score(x_train, y_train))\n",
    "print(xg_reg.score(x_test, y_test))"
   ]
  },
  {
   "cell_type": "code",
   "execution_count": null,
   "id": "435a451a",
   "metadata": {},
   "outputs": [],
   "source": [
    "pred = xg_reg.predict(test)\n",
    "sample_submission = pd.read_csv('C:/Users/82108/JejuRoad/JejuRoadData/open/sample_submission.csv')\n",
    "sample_submission['target'] = pred\n",
    "sample_submission.to_csv(\"C:/Users/82108/JejuRoad/JejuRoadData/open/submit.csv\", index = False)"
   ]
  },
  {
   "cell_type": "code",
   "execution_count": null,
   "id": "1773d6a0",
   "metadata": {},
   "outputs": [],
   "source": [
    "sample_submission"
   ]
  },
  {
   "cell_type": "code",
   "execution_count": 34,
   "id": "880f381a",
   "metadata": {},
   "outputs": [
    {
     "data": {
      "text/html": [
       "<div>\n",
       "<style scoped>\n",
       "    .dataframe tbody tr th:only-of-type {\n",
       "        vertical-align: middle;\n",
       "    }\n",
       "\n",
       "    .dataframe tbody tr th {\n",
       "        vertical-align: top;\n",
       "    }\n",
       "\n",
       "    .dataframe thead th {\n",
       "        text-align: right;\n",
       "    }\n",
       "</style>\n",
       "<table border=\"1\" class=\"dataframe\">\n",
       "  <thead>\n",
       "    <tr style=\"text-align: right;\">\n",
       "      <th></th>\n",
       "      <th>id</th>\n",
       "      <th>target</th>\n",
       "    </tr>\n",
       "  </thead>\n",
       "  <tbody>\n",
       "    <tr>\n",
       "      <th>0</th>\n",
       "      <td>TEST_000000</td>\n",
       "      <td>25.270121</td>\n",
       "    </tr>\n",
       "    <tr>\n",
       "      <th>1</th>\n",
       "      <td>TEST_000001</td>\n",
       "      <td>46.050335</td>\n",
       "    </tr>\n",
       "    <tr>\n",
       "      <th>2</th>\n",
       "      <td>TEST_000002</td>\n",
       "      <td>56.191345</td>\n",
       "    </tr>\n",
       "    <tr>\n",
       "      <th>3</th>\n",
       "      <td>TEST_000003</td>\n",
       "      <td>30.591667</td>\n",
       "    </tr>\n",
       "    <tr>\n",
       "      <th>4</th>\n",
       "      <td>TEST_000004</td>\n",
       "      <td>40.821388</td>\n",
       "    </tr>\n",
       "    <tr>\n",
       "      <th>...</th>\n",
       "      <td>...</td>\n",
       "      <td>...</td>\n",
       "    </tr>\n",
       "    <tr>\n",
       "      <th>291236</th>\n",
       "      <td>TEST_291236</td>\n",
       "      <td>50.665264</td>\n",
       "    </tr>\n",
       "    <tr>\n",
       "      <th>291237</th>\n",
       "      <td>TEST_291237</td>\n",
       "      <td>44.236691</td>\n",
       "    </tr>\n",
       "    <tr>\n",
       "      <th>291238</th>\n",
       "      <td>TEST_291238</td>\n",
       "      <td>23.385305</td>\n",
       "    </tr>\n",
       "    <tr>\n",
       "      <th>291239</th>\n",
       "      <td>TEST_291239</td>\n",
       "      <td>25.674559</td>\n",
       "    </tr>\n",
       "    <tr>\n",
       "      <th>291240</th>\n",
       "      <td>TEST_291240</td>\n",
       "      <td>41.502380</td>\n",
       "    </tr>\n",
       "  </tbody>\n",
       "</table>\n",
       "<p>291241 rows × 2 columns</p>\n",
       "</div>"
      ],
      "text/plain": [
       "                 id     target\n",
       "0       TEST_000000  25.270121\n",
       "1       TEST_000001  46.050335\n",
       "2       TEST_000002  56.191345\n",
       "3       TEST_000003  30.591667\n",
       "4       TEST_000004  40.821388\n",
       "...             ...        ...\n",
       "291236  TEST_291236  50.665264\n",
       "291237  TEST_291237  44.236691\n",
       "291238  TEST_291238  23.385305\n",
       "291239  TEST_291239  25.674559\n",
       "291240  TEST_291240  41.502380\n",
       "\n",
       "[291241 rows x 2 columns]"
      ]
     },
     "execution_count": 34,
     "metadata": {},
     "output_type": "execute_result"
    }
   ],
   "source": [
    "sample_submission"
   ]
  },
  {
   "cell_type": "code",
   "execution_count": null,
   "id": "23d42e87",
   "metadata": {},
   "outputs": [],
   "source": []
  }
 ],
 "metadata": {
  "kernelspec": {
   "display_name": "Python 3 (ipykernel)",
   "language": "python",
   "name": "python3"
  },
  "language_info": {
   "codemirror_mode": {
    "name": "ipython",
    "version": 3
   },
   "file_extension": ".py",
   "mimetype": "text/x-python",
   "name": "python",
   "nbconvert_exporter": "python",
   "pygments_lexer": "ipython3",
   "version": "3.10.4"
  }
 },
 "nbformat": 4,
 "nbformat_minor": 5
}
